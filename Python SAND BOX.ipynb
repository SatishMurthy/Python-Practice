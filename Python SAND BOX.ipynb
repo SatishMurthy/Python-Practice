{
 "cells": [
  {
   "cell_type": "code",
   "execution_count": null,
   "metadata": {},
   "outputs": [],
   "source": [
    "Sample1=\"Hari Om \" * 3\n",
    "print (Sample1)\n",
    "List3=[[Name[1],Sal[1]],[Name[2],Sal[2]],[Name[3],Sal[3]],[Name[1],Sal[2]],\n",
    "       [Name[2],Sal[3]],[Name[3],Sal[1]],[Name[1],Sal[3]],[Name[2],Sal[1]],[Name[3],Sal[2]]]"
   ]
  },
  {
   "cell_type": "code",
   "execution_count": null,
   "metadata": {},
   "outputs": [],
   "source": [
    "Name=['a','b','c']\n",
    "Sal=[100,200,300]\n",
    "List1=[Name,Sal]\n",
    "\n",
    "print (List1)\n",
    "List2=[Name[1],Sal[1],Name[2],Sal[2]]\n",
    "print (List2)\n",
    "List3=[[Name[0],Sal[0]],[Name[1],Sal[1]],[Name[2],Sal[2]],[Name[0],Sal[1]],\n",
    "       [Name[1],Sal[2]],[Name[2],Sal[0]],[Name[0],Sal[2]],[Name[1],Sal[0]],[Name[2],Sal[1]]]\n",
    "print (List3)\n",
    "print (List3[3:6])\n",
    "print ()\n",
    "\n",
    "sal_a=0\n",
    "for i in List3:\n",
    "    if (i[0]==\"a\"):\n",
    "        print(i)\n",
    "        sal_a=sal_a+i[1]\n",
    "print ('Salary of a = '+str(sal_a))\n",
    "    \n",
    "#print(List3[1][1])"
   ]
  },
  {
   "cell_type": "code",
   "execution_count": null,
   "metadata": {},
   "outputs": [],
   "source": [
    "age=[15,24,35,12,18,46,60,23,45,9,4,22]\n",
    "print(len(age))"
   ]
  },
  {
   "cell_type": "code",
   "execution_count": 2,
   "metadata": {},
   "outputs": [
    {
     "ename": "SyntaxError",
     "evalue": "invalid syntax (<ipython-input-2-9bd227089da3>, line 7)",
     "output_type": "error",
     "traceback": [
      "\u001b[1;36m  File \u001b[1;32m\"<ipython-input-2-9bd227089da3>\"\u001b[1;36m, line \u001b[1;32m7\u001b[0m\n\u001b[1;33m    print (\"Number of people < 20 = \",lessthan20,))\u001b[0m\n\u001b[1;37m                                                  ^\u001b[0m\n\u001b[1;31mSyntaxError\u001b[0m\u001b[1;31m:\u001b[0m invalid syntax\n"
     ]
    }
   ],
   "source": [
    "age=[15,24,35,12,18,46,60,23,45,9,4,22]\n",
    "lessthan20 = 0\n",
    "for i in age:\n",
    "    if (i < 20):\n",
    "        lessthan20 = lessthan20 + 1\n",
    "#print (\"Number of people < 20 = \"+str(lessthan20))\n",
    "print (\"Number of people < 20 = \",lessthan20,))"
   ]
  },
  {
   "cell_type": "code",
   "execution_count": null,
   "metadata": {},
   "outputs": [],
   "source": [
    "age=[15,24,35,12,18,46,60,23,45,9,4,22]\n",
    "lessthan20 = [age1 for age1 in age if age1<20]\n",
    "print (lessthan20)"
   ]
  },
  {
   "cell_type": "code",
   "execution_count": null,
   "metadata": {},
   "outputs": [],
   "source": [
    "age=input(\"Please enter your age \\n\")\n",
    "if age:\n",
    "    if int(age):\n",
    "        age = int(age)\n",
    "        if age >= 18 and age < 21:\n",
    "            print (\"Enter but no drinks\")\n",
    "        elif age >= 21:\n",
    "            print (\"Welcome Adult\")\n",
    "        else:\n",
    "            print (\"Sorry. You are underage\")\n",
    "    else:\n",
    "        print (\"Please Enter Valid number\")\n",
    "else:\n",
    "    print ('Please enter your input')\n",
    "        "
   ]
  },
  {
   "cell_type": "code",
   "execution_count": null,
   "metadata": {},
   "outputs": [],
   "source": [
    "string1 = \"Rock\"\n",
    "print (string1.upper())\n"
   ]
  },
  {
   "cell_type": "code",
   "execution_count": null,
   "metadata": {},
   "outputs": [],
   "source": [
    "num = range(6)\n",
    "sqr_num = [n ** 2 for n in num]\n",
    "print (sqr_num)\n",
    "\n",
    "sqr_even = [n ** 2 for n in num if n%2 == 0]\n",
    "print (sqr_even)\n",
    "\n",
    "sqr_cube = [n**3 if n%2 == 0 else n**2 for n in num]\n",
    "print (sqr_cube)"
   ]
  },
  {
   "cell_type": "code",
   "execution_count": 1,
   "metadata": {},
   "outputs": [
    {
     "name": "stdout",
     "output_type": "stream",
     "text": [
      "[1, 3]\n"
     ]
    }
   ],
   "source": [
    "l1 = [1,3,5,7]\n",
    "l2 = range(5)\n",
    "#age=input(\"Please enter your age \\n\")\n",
    "\n",
    "ans = [n for n in l1 if n in l1 and n in l2]\n",
    "print (ans)"
   ]
  },
  {
   "cell_type": "code",
   "execution_count": null,
   "metadata": {},
   "outputs": [],
   "source": [
    "l1 = [\"Satish\", \"Sushila\", \"Prerana\", \"Pranav\"]\n",
    "\n",
    "nam = [val[::-1].lower() for val in l1]\n",
    "\n",
    "print (nam)"
   ]
  },
  {
   "cell_type": "code",
   "execution_count": null,
   "metadata": {},
   "outputs": [],
   "source": [
    "Table = [[1,2,3],[4,5,6],[7,8,9]]\n",
    "\n",
    "#print (Table[1][1])\n",
    "#tab2 =[val[n][n]*2 for val in Table for n in Table]\n",
    "\n",
    "tab2 = []\n",
    "for val in Table:\n",
    "    sublist = []\n",
    "    for item in val:\n",
    "        sublist.append(item*2)\n",
    "    tab2.append(sublist)\n",
    "        \n",
    "print (tab2)"
   ]
  },
  {
   "cell_type": "code",
   "execution_count": 2,
   "metadata": {},
   "outputs": [
    {
     "name": "stdout",
     "output_type": "stream",
     "text": [
      "[[1, 6, 11], [2, 7, 12], [3, 8, 13], [4, 9, 14], [5, 10, 15]]\n",
      "\n"
     ]
    },
    {
     "ename": "NameError",
     "evalue": "name 'x' is not defined",
     "output_type": "error",
     "traceback": [
      "\u001b[1;31m---------------------------------------------------------------------------\u001b[0m",
      "\u001b[1;31mNameError\u001b[0m                                 Traceback (most recent call last)",
      "\u001b[1;32m<ipython-input-2-507498df1783>\u001b[0m in \u001b[0;36m<module>\u001b[1;34m\u001b[0m\n\u001b[0;32m     32\u001b[0m \u001b[0mprint\u001b[0m \u001b[1;33m(\u001b[0m\u001b[1;33m)\u001b[0m\u001b[1;33m\u001b[0m\u001b[1;33m\u001b[0m\u001b[0m\n\u001b[0;32m     33\u001b[0m \u001b[1;33m\u001b[0m\u001b[0m\n\u001b[1;32m---> 34\u001b[1;33m \u001b[0mtab4\u001b[0m \u001b[1;33m=\u001b[0m \u001b[1;33m[\u001b[0m\u001b[1;33m[\u001b[0m\u001b[0mtab2\u001b[0m\u001b[1;33m[\u001b[0m\u001b[0my\u001b[0m\u001b[1;33m]\u001b[0m\u001b[1;33m[\u001b[0m\u001b[0mx\u001b[0m\u001b[1;33m]\u001b[0m \u001b[1;32mfor\u001b[0m \u001b[0my\u001b[0m \u001b[1;32min\u001b[0m \u001b[0mrange\u001b[0m\u001b[1;33m(\u001b[0m\u001b[0mlen\u001b[0m\u001b[1;33m(\u001b[0m\u001b[0mtab2\u001b[0m\u001b[1;33m)\u001b[0m\u001b[1;33m)\u001b[0m\u001b[1;33m]\u001b[0m \u001b[1;32mfor\u001b[0m \u001b[0mx\u001b[0m \u001b[1;32min\u001b[0m \u001b[0mrange\u001b[0m\u001b[1;33m(\u001b[0m\u001b[0mlen\u001b[0m\u001b[1;33m(\u001b[0m\u001b[0mtab2\u001b[0m\u001b[1;33m[\u001b[0m\u001b[0mx\u001b[0m\u001b[1;33m]\u001b[0m\u001b[1;33m)\u001b[0m\u001b[1;33m)\u001b[0m\u001b[1;33m]\u001b[0m\u001b[1;33m\u001b[0m\u001b[1;33m\u001b[0m\u001b[0m\n\u001b[0m\u001b[0;32m     35\u001b[0m \u001b[1;33m\u001b[0m\u001b[0m\n\u001b[0;32m     36\u001b[0m \u001b[0mprint\u001b[0m \u001b[1;33m(\u001b[0m\u001b[0mtab4\u001b[0m\u001b[1;33m)\u001b[0m\u001b[1;33m\u001b[0m\u001b[1;33m\u001b[0m\u001b[0m\n",
      "\u001b[1;31mNameError\u001b[0m: name 'x' is not defined"
     ]
    }
   ],
   "source": [
    "#####\n",
    "#####\n",
    "#### Nested List Comprehension practice ####\n",
    "#####\n",
    "#####\n",
    "\n",
    "tab1 = [[1,2,3,4,5],[6,7,8,9,10],[11,12,13,14,15]]\n",
    "\n",
    "tab2 = [[1,2,3],[4,5],[6,7,8]]\n",
    "\n",
    "rowlen = len(tab1)\n",
    "collen = len(tab1[0])\n",
    "\n",
    "#for x in range(rowlen):\n",
    "#    newrow = []\n",
    "#    for y in range(collen):\n",
    "#        newrow.append(0)\n",
    "#    tab2.append(newrow)\n",
    "\n",
    "#tab3 = [[x for y in range(rowlen)] for x in range(collen)]\n",
    "#print (tab2)\n",
    "#print (tab3)\n",
    "\n",
    "#for x in range(rowlen):\n",
    "#    for y in range(collen):\n",
    "#        tab3[y][x]=tab1[x][y]\n",
    "\n",
    "tab3=[[tab1[y][x] for y in range(rowlen)] for x in range(collen)]\n",
    "\n",
    "print (tab3)\n",
    "\n",
    "print ()\n",
    "\n",
    "#tab4 = [[tab2[y][x] for y in range(len(tab2))] for x in range(len(tab2[x]))]\n",
    "\n",
    "#print (tab4)"
   ]
  },
  {
   "cell_type": "code",
   "execution_count": 6,
   "metadata": {},
   "outputs": [
    {
     "name": "stdout",
     "output_type": "stream",
     "text": [
      "{'name': 'Satish', 'age': 45, 'profession': 'Consultant'}\n",
      "\n",
      "{'name': 'unknown', 'age': 'unknown', 'profession': 'unknown'}\n"
     ]
    }
   ],
   "source": [
    "person = dict(name=\"Satish\", age=45, profession=\"Consultant\")\n",
    "print (person)\n",
    "\n",
    "Person2 = {}.fromkeys([\"name\",\"age\",\"profession\"],\"unknown\")\n",
    "print ()\n",
    "print (Person2)"
   ]
  },
  {
   "cell_type": "code",
   "execution_count": 11,
   "metadata": {},
   "outputs": [
    {
     "name": "stdout",
     "output_type": "stream",
     "text": [
      "{'current_score': 0, 'high_score': 0, 'number_of_lives': 0, 'items_in_inventory': 0, 'power_ups': 0, 'ammo': 0, 'enemies_on_screen': 0, 'enemy_kills': 0, 'enemy_kill_streaks': 0, 'minutes_played': 0, 'notifications': 0, 'achievements': 0}\n",
      "\n",
      "{'current_score': 0, 'high_score': 0, 'number_of_lives': 0, 'items_in_inventory': 0, 'power_ups': 0, 'ammo': 0, 'enemies_on_screen': 0, 'enemy_kills': 0, 'enemy_kill_streaks': 0, 'minutes_played': 0, 'notifications': 0, 'achievements': 0, 'player': 'unknown'}\n"
     ]
    }
   ],
   "source": [
    "game_properties = [\"current_score\", \"high_score\", \"number_of_lives\", \"items_in_inventory\", \"power_ups\", \"ammo\", \"enemies_on_screen\", \"enemy_kills\", \"enemy_kill_streaks\", \"minutes_played\", \"notifications\", \"achievements\"] \n",
    "\n",
    "initial_game_state ={}.fromkeys(game_properties,0)\n",
    "print(initial_game_state)\n",
    "print ()\n",
    "\n",
    "game_stat_add = {\"player\":\"unknown\"}\n",
    "\n",
    "initial_game_state.update(game_stat_add)\n",
    "print(initial_game_state)"
   ]
  },
  {
   "cell_type": "code",
   "execution_count": 3,
   "metadata": {},
   "outputs": [
    {
     "name": "stdout",
     "output_type": "stream",
     "text": [
      "{'S No. 1': 1, 'S No. 2': 4, 'S No. 3': 9, 'S No. 4': 16, 'S No. 5': 25}\n"
     ]
    }
   ],
   "source": [
    "num1 = [1,2,3,4,5]\n",
    "num2 = {\"S No. \" + str(n): n ** 2 for n in num1}\n",
    "print (num2)"
   ]
  },
  {
   "cell_type": "code",
   "execution_count": 15,
   "metadata": {},
   "outputs": [
    {
     "name": "stdout",
     "output_type": "stream",
     "text": [
      "{1, 2, 3, 4, 5, 6}\n"
     ]
    }
   ],
   "source": [
    "value1 = [1,2,3,4,1,2,1,2,3,5,6]\n",
    "\n",
    "v = tuple(value1)\n",
    "v1 = set(v)\n",
    "\n",
    "print (v1)"
   ]
  },
  {
   "cell_type": "code",
   "execution_count": 16,
   "metadata": {},
   "outputs": [
    {
     "name": "stdout",
     "output_type": "stream",
     "text": [
      "GO AWAY\n"
     ]
    }
   ],
   "source": [
    "def yell(string1):\n",
    "    return (string1.upper())\n",
    "\n",
    "print (yell(\"go away\"))"
   ]
  },
  {
   "cell_type": "code",
   "execution_count": 4,
   "metadata": {},
   "outputs": [
    {
     "name": "stdout",
     "output_type": "stream",
     "text": [
      "Sunday\n",
      "\n",
      "None\n"
     ]
    }
   ],
   "source": [
    "def return_days(day):\n",
    "    daysofweek = {1:\"Sunday\",\n",
    "                  2:\"Monday\",\n",
    "                  3:\"Tuesday\",\n",
    "                  4:\"Wednesday\",\n",
    "                  5:\"Thursday\",\n",
    "                  6:\"Friday\",\n",
    "                  7:\"Saturday\"}\n",
    "    \n",
    "    if day >=1 and day <=7:\n",
    "            return (daysofweek.get(day))\n",
    "    else:\n",
    "            return (\"None\")\n",
    "\n",
    "print(return_days(1))\n",
    "\n",
    "print()\n",
    "\n",
    "print(return_days(0))\n"
   ]
  },
  {
   "cell_type": "code",
   "execution_count": 11,
   "metadata": {},
   "outputs": [
    {
     "name": "stdout",
     "output_type": "stream",
     "text": [
      "[1, 2, 3, 4, 5]\n",
      "5\n",
      "[]\n",
      "None\n"
     ]
    }
   ],
   "source": [
    "def last_element(list):\n",
    "    \n",
    "    elements=len(list)\n",
    "    print (list)\n",
    "    if elements:\n",
    "        return list[-1]\n",
    "    else:\n",
    "        return None\n",
    "    \n",
    "print (last_element([1,2,3,4,5]))\n",
    "\n",
    "print(last_element([]))\n"
   ]
  },
  {
   "cell_type": "code",
   "execution_count": 14,
   "metadata": {},
   "outputs": [
    {
     "name": "stdout",
     "output_type": "stream",
     "text": [
      "1\n",
      "2\n",
      "3\n"
     ]
    }
   ],
   "source": [
    "def single_letter_count(string1, letter1):\n",
    "    \n",
    "    return (string1.upper().count(letter1.upper()))\n",
    "    \n",
    "print (single_letter_count(\"Hello World\", \"h\"))\n",
    "print (single_letter_count(\"Hello World\", \"O\"))\n",
    "print (single_letter_count(\"Hello World\", \"L\"))"
   ]
  },
  {
   "cell_type": "code",
   "execution_count": 34,
   "metadata": {},
   "outputs": [
    {
     "name": "stdout",
     "output_type": "stream",
     "text": [
      "['h', 'e', 'l', 'l', 'o', ' ', 'w', 'o', 'r', 'l', 'd']\n",
      "{'h': 1, 'e': 1, 'l': 3, 'o': 2, ' ': 1, 'w': 1, 'r': 1, 'd': 1}\n"
     ]
    }
   ],
   "source": [
    "list1 = list(\"Hello World\".lower())\n",
    "print (list1)\n",
    "\n",
    "worddict = {char:list1.count(char) for char in list1}\n",
    "\n",
    "print (worddict)\n"
   ]
  },
  {
   "cell_type": "code",
   "execution_count": 50,
   "metadata": {},
   "outputs": [
    {
     "name": "stdout",
     "output_type": "stream",
     "text": [
      "3\n",
      "1\n",
      "[20, 1, 2, 3]\n",
      "[1, 2, 3, 30]\n"
     ]
    }
   ],
   "source": [
    "def list_manipulation(list1, func, pos, val=0):\n",
    "        \n",
    "    if func==\"remove\":\n",
    "        if pos==\"end\":\n",
    "            return list1.pop()\n",
    "        else:\n",
    "            return list1.pop(0)\n",
    "    else:\n",
    "        if pos==\"end\":\n",
    "            list1.append(val)\n",
    "        else:\n",
    "            list1.insert(0,val)\n",
    "        return list1\n",
    "            \n",
    "        \n",
    "print (list_manipulation([1,2,3], \"remove\", \"end\")) # 3\n",
    "print (list_manipulation([1,2,3], \"remove\", \"beginning\")) #  1\n",
    "print (list_manipulation([1,2,3], \"add\", \"beginning\", 20)) #  [20,1,2,3]\n",
    "# print (list1)\n",
    "print (list_manipulation([1,2,3], \"add\", \"end\", 30)) #  [1,2,3,30]"
   ]
  },
  {
   "cell_type": "code",
   "execution_count": 72,
   "metadata": {},
   "outputs": [
    {
     "name": "stdout",
     "output_type": "stream",
     "text": [
      "['a', 'm', 'a', 'n', 'a', 'p', 'l', 'a', 'n', 'a', 'c', 'a', 'n', 'a', 'l', 'p', 'a', 'n', 'a', 'm', 'a']\n",
      "['a', 'm', 'a', 'n', 'a', 'p', 'l', 'a', 'n', 'a', 'c', 'a', 'n', 'a', 'l', 'p', 'a', 'n', 'a', 'm', 'a']\n",
      "['a', 'm', 'a', 'n', 'a', 'p', 'l', 'a', 'n', 'a', 'c', 'a', 'n', 'a', 'l', 'p', 'a', 'n', 'a', 'm', 'a']\n",
      "Is Palindrome\n"
     ]
    }
   ],
   "source": [
    "string1 = \"amanaplaNacanalPanama\"\n",
    "#string1 = \"TEST\"\n",
    "\n",
    "print(list(string1.lower()))\n",
    "string2 = list(string1.lower())\n",
    "print (string2)\n",
    "\n",
    "string2.reverse()\n",
    "\n",
    "print (string2)\n",
    "\n",
    "\n",
    "if list(string1.lower()) == string2:\n",
    "    print (\"Is Palindrome\")\n",
    "else:\n",
    "    print(\"Something is wrong\")"
   ]
  },
  {
   "cell_type": "code",
   "execution_count": 26,
   "metadata": {},
   "outputs": [
    {
     "name": "stdout",
     "output_type": "stream",
     "text": [
      "testing is not a Palindrome\n",
      "tAcocaT is a Palindrome\n",
      "hannah is a Palindrome\n",
      "Robert is not a Palindrome\n",
      "Malayalam is a Palindrome\n",
      "a man a plaN a canal Panama is a Palindrome\n"
     ]
    }
   ],
   "source": [
    "#string1 = \"Hello World how are you\"\n",
    "#string1 = \"a man a plaN a canal Panama\"\n",
    "\n",
    "def is_palindrome(string1):\n",
    "\n",
    "    list1 = list(string1.lower())\n",
    "\n",
    "    #print(list1)\n",
    "    while \" \" in list1:\n",
    "        list1.remove(\" \")\n",
    "\n",
    "    list2 = list1[::-1]\n",
    "\n",
    "    #print (list1)\n",
    "    #print(list2)\n",
    "\n",
    "    if list1 == list2:\n",
    "        return True\n",
    "    else:\n",
    "        return False\n",
    "\n",
    "checking = ['testing','tAcocaT','hannah','Robert','Malayalam','a man a plaN a canal Panama']\n",
    "\n",
    "for l in checking:\n",
    "    if is_palindrome(l):\n",
    "        print (l + \" is a Palindrome\")\n",
    "    else:\n",
    "        print (l + \" is not a Palindrome\")"
   ]
  },
  {
   "cell_type": "code",
   "execution_count": 30,
   "metadata": {},
   "outputs": [
    {
     "ename": "SyntaxError",
     "evalue": "invalid syntax (<ipython-input-30-e15396d9466d>, line 10)",
     "output_type": "error",
     "traceback": [
      "\u001b[1;36m  File \u001b[1;32m\"<ipython-input-30-e15396d9466d>\"\u001b[1;36m, line \u001b[1;32m10\u001b[0m\n\u001b[1;33m    result *= num for num in list1 if num%2 == 0\u001b[0m\n\u001b[1;37m                    ^\u001b[0m\n\u001b[1;31mSyntaxError\u001b[0m\u001b[1;31m:\u001b[0m invalid syntax\n"
     ]
    }
   ],
   "source": [
    "#multiply_even_numbers([2,3,4,5,6]) # 48\n",
    "\n",
    "def multiply_even_numbers(list1):\n",
    "    \n",
    "    result = 1\n",
    "#    for num in list1:\n",
    "#        if num%2 == 0 :\n",
    "#            result *= num\n",
    "\n",
    "    result1 = (result * num for num in list1 if num%2 == 0      \n",
    "    return (result)\n",
    "    \n",
    "#    return result\n",
    "\n",
    "print (multiply_even_numbers([2,3,4,5,6,7,8]))"
   ]
  },
  {
   "cell_type": "code",
   "execution_count": 31,
   "metadata": {},
   "outputs": [
    {
     "name": "stdout",
     "output_type": "stream",
     "text": [
      "Tim\n",
      "Satish\n"
     ]
    }
   ],
   "source": [
    "def capitals(string1):\n",
    "    return (string1[0].upper()+string1[1:])\n",
    "\n",
    "print (capitals(\"tim\"))\n",
    "\n",
    "print (capitals(\"satish\"))"
   ]
  },
  {
   "cell_type": "code",
   "execution_count": 32,
   "metadata": {},
   "outputs": [
    {
     "data": {
      "text/plain": [
       "[1, 2, 'All done']"
      ]
     },
     "execution_count": 32,
     "metadata": {},
     "output_type": "execute_result"
    }
   ],
   "source": [
    "def compact(list1):\n",
    "    list2=[item for item in list1 if item]\n",
    "    \n",
    "    return list2\n",
    "\n",
    "compact([0,1,2,\"\",[], False, {}, None, \"All done\"])"
   ]
  },
  {
   "cell_type": "code",
   "execution_count": 36,
   "metadata": {},
   "outputs": [
    {
     "name": "stdout",
     "output_type": "stream",
     "text": [
      "[2, 3, 4]\n"
     ]
    }
   ],
   "source": [
    "list1=[1,2,3,4]\n",
    "list2=[2,3,4]\n",
    "\n",
    "list3=[]\n",
    "\n",
    "#for l in list1:\n",
    "#    for m in list2:\n",
    "#        if l==m: list3.append(l)\n",
    "            \n",
    "list3=[l for l in list1 for m in list2 if l==m]\n",
    "\n",
    "print (list3)"
   ]
  },
  {
   "cell_type": "code",
   "execution_count": 37,
   "metadata": {},
   "outputs": [
    {
     "name": "stdout",
     "output_type": "stream",
     "text": [
      "[[2, 4], [1, 3, 5]]\n"
     ]
    }
   ],
   "source": [
    "def isEven(num):\n",
    "    return num % 2 == 0\n",
    "\n",
    "def partition(list1, func=isEven):\n",
    "    evenlist = [n for n in list1 if func(n)]\n",
    "    oddlist = [n for n in list1 if not func(n)]\n",
    "    \n",
    "    newlist=[evenlist, oddlist]\n",
    "    return newlist\n",
    "\n",
    "print (partition([1,2,3,4,5],isEven))\n",
    "    "
   ]
  },
  {
   "cell_type": "code",
   "execution_count": 3,
   "metadata": {},
   "outputs": [
    {
     "name": "stdout",
     "output_type": "stream",
     "text": [
      "childish\n"
     ]
    }
   ],
   "source": [
    "def combine_words(word,**adds):\n",
    "    if \"prefix\" in adds:\n",
    "        return (adds[\"prefix\"]+word)\n",
    "    elif \"suffix\" in adds:\n",
    "        return (word+adds[\"suffix\"])\n",
    "    else:\n",
    "        return word\n",
    "\n",
    "print (combine_words(\"child\",suffix=\"ish\"))"
   ]
  },
  {
   "cell_type": "code",
   "execution_count": 4,
   "metadata": {},
   "outputs": [
    {
     "name": "stdout",
     "output_type": "stream",
     "text": [
      "You just added 6\n",
      "The result is 0.7\n"
     ]
    }
   ],
   "source": [
    "def calculate(**params):\n",
    "    msg = \"The result is\"\n",
    "    if \"message\" in params:\n",
    "        msg=params[\"message\"]\n",
    "        \n",
    "    if params[\"operation\"] == \"add\":\n",
    "        result = params[\"first\"] + params[\"second\"]\n",
    "    elif params[\"operation\"] == \"subtract\":\n",
    "        result = params[\"first\"] - params[\"second\"]\n",
    "    elif params[\"operation\"] == \"multiply\":\n",
    "        result = params[\"first\"] * params[\"second\"]\n",
    "    else:\n",
    "        result = params[\"first\"] / params[\"second\"]\n",
    "    \n",
    "    if params[\"make_float\"] == False:\n",
    "        return (msg+\" \"+str(int(result)))\n",
    "    else:\n",
    "        return (msg+\" \"+str(float(result)))\n",
    "    \n",
    "print (calculate(make_float=False, operation='add', message='You just added', first=2, second=4))\n",
    "\n",
    "print (calculate(make_float=True, operation='divide', first=3.5, second=5))"
   ]
  },
  {
   "cell_type": "code",
   "execution_count": 5,
   "metadata": {},
   "outputs": [
    {
     "name": "stdout",
     "output_type": "stream",
     "text": [
      "27\n",
      "512\n"
     ]
    }
   ],
   "source": [
    "cube = lambda num: num ** 3\n",
    "\n",
    "print (cube(3))\n",
    "print (cube(8))"
   ]
  },
  {
   "cell_type": "code",
   "execution_count": 10,
   "metadata": {},
   "outputs": [
    {
     "name": "stdout",
     "output_type": "stream",
     "text": [
      "[0, 1, 2, 3]\n",
      "[4, 5, 6, 7]\n"
     ]
    }
   ],
   "source": [
    "l=[1,2,3,4]\n",
    "decrement_list = list(map(lambda x: x-1, l))\n",
    "print (decrement_list)\n",
    "l = [5,6,7,8]\n",
    "decrement_list = list(map(lambda x: x-1, l))\n",
    "print (decrement_list)"
   ]
  },
  {
   "cell_type": "code",
   "execution_count": 8,
   "metadata": {},
   "outputs": [
    {
     "name": "stdout",
     "output_type": "stream",
     "text": [
      "[True, True, True, True, True]\n",
      "True\n"
     ]
    }
   ],
   "source": [
    "def is_all_strings(list1):\n",
    "    \n",
    "    print ([type(item) == str for item in list1])\n",
    "    \n",
    "    return all(type(item) == str for item in list1)\n",
    "\n",
    "print (is_all_strings([\"hello\",\"goodbye\",'a','b','c']))\n"
   ]
  },
  {
   "cell_type": "code",
   "execution_count": 18,
   "metadata": {},
   "outputs": [
    {
     "name": "stdout",
     "output_type": "stream",
     "text": [
      "['S', 'a', 'h', 'i', 's', 't']\n",
      "['h', 's', 'i', 't', 'a', 'S']\n"
     ]
    }
   ],
   "source": [
    "string1=\"Satish\"\n",
    "string2=list(string1)\n",
    "\n",
    "string2.sort()\n",
    "print (string2)\n",
    "\n",
    "print (list(reversed(string1)))\n"
   ]
  },
  {
   "cell_type": "code",
   "execution_count": 23,
   "metadata": {},
   "outputs": [
    {
     "name": "stdout",
     "output_type": "stream",
     "text": [
      "[100, 2, 240, 500]\n",
      "500\n"
     ]
    }
   ],
   "source": [
    "l = [100,2,-240, -500]\n",
    "\n",
    "l1=[abs(n) for n in l]\n",
    "\n",
    "print (l1)\n",
    "#print (max(l1))\n",
    "\n",
    "print (max(abs(n) for n in l))"
   ]
  },
  {
   "cell_type": "code",
   "execution_count": 28,
   "metadata": {},
   "outputs": [
    {
     "name": "stdout",
     "output_type": "stream",
     "text": [
      "12\n",
      "16\n",
      "0\n"
     ]
    }
   ],
   "source": [
    "def sum_even_values(*nums):\n",
    "    total=0\n",
    "    \n",
    "    evens=[n for n in nums if n%2==0]\n",
    "    total+=sum(evens)\n",
    "    return (total)\n",
    "\n",
    "print (sum_even_values(1,2,3,4,5,6))\n",
    "print (sum_even_values(4,2,1,10)) # 16\n",
    "print (sum_even_values(1))"
   ]
  },
  {
   "cell_type": "code",
   "execution_count": 8,
   "metadata": {},
   "outputs": [
    {
     "name": "stdout",
     "output_type": "stream",
     "text": [
      "hhio\n",
      "lizard\n"
     ]
    }
   ],
   "source": [
    "def interleave(string1, string2):\n",
    "   \n",
    "    return \"\".join([\"\".join(x) for x in list(zip(string1,string2))])\n",
    "\n",
    "\n",
    "print(interleave(\"hi\",\"ho\"))\n",
    "print(interleave(\"lzr\",\"iad\"))\n"
   ]
  },
  {
   "cell_type": "code",
   "execution_count": 16,
   "metadata": {},
   "outputs": [
    {
     "name": "stdout",
     "output_type": "stream",
     "text": [
      "[12]\n",
      "[24, 36]\n"
     ]
    }
   ],
   "source": [
    "#triple_and_filter([1,2,3,4]) # [12]\n",
    "\n",
    "def triple_and_filter(list1):\n",
    "    return list(\n",
    "                map(lambda x: x*3,filter(\n",
    "                            lambda num: num % 4 == 0,list1\n",
    "                            )\n",
    "                   )\n",
    "            )\n",
    "\n",
    "print (triple_and_filter([1,2,3,4]))\n",
    "print (triple_and_filter([6,8,10,12]))"
   ]
  },
  {
   "cell_type": "code",
   "execution_count": 28,
   "metadata": {},
   "outputs": [
    {
     "name": "stdout",
     "output_type": "stream",
     "text": [
      "['Elie Schoppik', 'Colt Steele']\n"
     ]
    }
   ],
   "source": [
    "'''\n",
    "names = [{'first': 'Elie', 'last': 'Schoppik'}, {'first': 'Colt', 'last': 'Steele'}]\n",
    "extract_full_name(names) # ['Elie Schoppik', 'Colt Steele']\n",
    "'''\n",
    "\n",
    "def extract_full_name(list1):\n",
    "    list2 = [\" \".join(x) for x in list(\n",
    "                    zip(map(lambda str1: str1[\"first\"],list1), \n",
    "                        map(lambda str2: str2[\"last\"],list1)\n",
    "                       )\n",
    "                    )\n",
    "            ]\n",
    "                \n",
    "    return list2\n",
    "\n",
    "names = [{'first': 'Elie', 'last': 'Schoppik'}, {'first': 'Colt', 'last': 'Steele'}]\n",
    "print (extract_full_name(names))\n",
    "    "
   ]
  },
  {
   "cell_type": "code",
   "execution_count": 7,
   "metadata": {},
   "outputs": [
    {
     "name": "stdout",
     "output_type": "stream",
     "text": [
      "0.6666666666666666\n",
      "\n",
      "Please provide two integers or floats\n",
      "None\n",
      "\n",
      "Please do not divide by zero\n",
      "None\n",
      "\n"
     ]
    },
    {
     "ename": "NameError",
     "evalue": "name 'a' is not defined",
     "output_type": "error",
     "traceback": [
      "\u001b[1;31m---------------------------------------------------------------------------\u001b[0m",
      "\u001b[1;31mNameError\u001b[0m                                 Traceback (most recent call last)",
      "\u001b[1;32m<ipython-input-7-6b856b33ce42>\u001b[0m in \u001b[0;36m<module>\u001b[1;34m\u001b[0m\n\u001b[0;32m     15\u001b[0m \u001b[0mprint\u001b[0m \u001b[1;33m(\u001b[0m\u001b[0mdivide\u001b[0m \u001b[1;33m(\u001b[0m\u001b[1;36m3\u001b[0m\u001b[1;33m,\u001b[0m\u001b[1;36m0\u001b[0m\u001b[1;33m)\u001b[0m\u001b[1;33m)\u001b[0m\u001b[1;33m\u001b[0m\u001b[1;33m\u001b[0m\u001b[0m\n\u001b[0;32m     16\u001b[0m \u001b[0mprint\u001b[0m\u001b[1;33m(\u001b[0m\u001b[1;33m)\u001b[0m\u001b[1;33m\u001b[0m\u001b[1;33m\u001b[0m\u001b[0m\n\u001b[1;32m---> 17\u001b[1;33m \u001b[0mprint\u001b[0m \u001b[1;33m(\u001b[0m\u001b[0mdivide\u001b[0m \u001b[1;33m(\u001b[0m\u001b[1;36m1\u001b[0m\u001b[1;33m,\u001b[0m\u001b[0ma\u001b[0m\u001b[1;33m)\u001b[0m\u001b[1;33m)\u001b[0m\u001b[1;33m\u001b[0m\u001b[1;33m\u001b[0m\u001b[0m\n\u001b[0m",
      "\u001b[1;31mNameError\u001b[0m: name 'a' is not defined"
     ]
    }
   ],
   "source": [
    "def divide(a,b):\n",
    "    try:\n",
    "        num3 = a/b\n",
    "    except (SyntaxError,TypeError,NameError):\n",
    "        print (\"Please provide two integers or floats\")\n",
    "    except ZeroDivisionError:\n",
    "        print (\"Please do not divide by zero\")\n",
    "    else:\n",
    "        return num3\n",
    "\n",
    "print (divide (2,3))\n",
    "print ()\n",
    "print (divide ([],3))\n",
    "print ()\n",
    "print (divide (3,0))\n",
    "print()\n",
    "print (divide (1,a))"
   ]
  },
  {
   "cell_type": "code",
   "execution_count": 10,
   "metadata": {},
   "outputs": [
    {
     "name": "stdout",
     "output_type": "stream",
     "text": [
      "False\n"
     ]
    }
   ],
   "source": [
    "def contains_keyword(*params):\n",
    "    from keyword import iskeyword\n",
    "    \n",
    "    for word1 in params:\n",
    "        if iskeyword(word1):\n",
    "            return True\n",
    "    return False\n",
    "\n",
    "print (contains_keyword(\"hello\",'goodbye'))\n"
   ]
  },
  {
   "cell_type": "code",
   "execution_count": 1,
   "metadata": {},
   "outputs": [
    {
     "ename": "SyntaxError",
     "evalue": "invalid syntax (<ipython-input-1-c94c55c71ee4>, line 1)",
     "output_type": "error",
     "traceback": [
      "\u001b[1;36m  File \u001b[1;32m\"<ipython-input-1-c94c55c71ee4>\"\u001b[1;36m, line \u001b[1;32m1\u001b[0m\n\u001b[1;33m    help pyfiglet\u001b[0m\n\u001b[1;37m                ^\u001b[0m\n\u001b[1;31mSyntaxError\u001b[0m\u001b[1;31m:\u001b[0m invalid syntax\n"
     ]
    }
   ],
   "source": [
    "help pyfiglet"
   ]
  },
  {
   "cell_type": "code",
   "execution_count": 7,
   "metadata": {},
   "outputs": [
    {
     "ename": "NameError",
     "evalue": "name 'print_figlet' is not defined",
     "output_type": "error",
     "traceback": [
      "\u001b[1;31m---------------------------------------------------------------------------\u001b[0m",
      "\u001b[1;31mNameError\u001b[0m                                 Traceback (most recent call last)",
      "\u001b[1;32m<ipython-input-7-5f90d3da0d1b>\u001b[0m in \u001b[0;36m<module>\u001b[1;34m\u001b[0m\n\u001b[0;32m      7\u001b[0m \u001b[1;33m\u001b[0m\u001b[0m\n\u001b[0;32m      8\u001b[0m \u001b[1;31m#print_figlet(text, font='standard', colors=':', **kwargs)\u001b[0m\u001b[1;33m\u001b[0m\u001b[1;33m\u001b[0m\u001b[1;33m\u001b[0m\u001b[0m\n\u001b[1;32m----> 9\u001b[1;33m \u001b[0mprint_figlet\u001b[0m\u001b[1;33m(\u001b[0m\u001b[1;34m\"Hello World\"\u001b[0m\u001b[1;33m,\u001b[0m \u001b[0mfont\u001b[0m\u001b[1;33m=\u001b[0m\u001b[1;34m'standard'\u001b[0m\u001b[1;33m,\u001b[0m \u001b[0mcolors\u001b[0m\u001b[1;33m=\u001b[0m\u001b[1;34m'BLUE'\u001b[0m\u001b[1;33m)\u001b[0m\u001b[1;33m\u001b[0m\u001b[1;33m\u001b[0m\u001b[0m\n\u001b[0m",
      "\u001b[1;31mNameError\u001b[0m: name 'print_figlet' is not defined"
     ]
    }
   ],
   "source": [
    "import pyfiglet\n",
    "\n",
    "#print (dir(pyfiglet))\n",
    "\n",
    "#out = pyfiglet.figlet_format(\"Hello World\")\n",
    "#print(out)\n",
    "\n",
    "#print_figlet(text, font='standard', colors=':', **kwargs)\n",
    "print_figlet(\"Hello World\", font='standard', colors='BLUE')\n"
   ]
  },
  {
   "cell_type": "code",
   "execution_count": 6,
   "metadata": {},
   "outputs": [
    {
     "name": "stdout",
     "output_type": "stream",
     "text": [
      "Help on package pyfiglet:\n",
      "\n",
      "NAME\n",
      "    pyfiglet - Python FIGlet adaption\n",
      "\n",
      "PACKAGE CONTENTS\n",
      "    __main__\n",
      "    fonts (package)\n",
      "    test\n",
      "    version\n",
      "\n",
      "CLASSES\n",
      "    builtins.Exception(builtins.BaseException)\n",
      "        FigletError\n",
      "            CharNotPrinted\n",
      "            FontError\n",
      "            FontNotFound\n",
      "            InvalidColor\n",
      "    builtins.object\n",
      "        Figlet\n",
      "        FigletBuilder\n",
      "        FigletFont\n",
      "        FigletProduct\n",
      "        FigletRenderingEngine\n",
      "    builtins.str(builtins.object)\n",
      "        FigletString\n",
      "    \n",
      "    class CharNotPrinted(FigletError)\n",
      "     |  CharNotPrinted(error)\n",
      "     |  \n",
      "     |  Raised when the width is not sufficient to print a character\n",
      "     |  \n",
      "     |  Method resolution order:\n",
      "     |      CharNotPrinted\n",
      "     |      FigletError\n",
      "     |      builtins.Exception\n",
      "     |      builtins.BaseException\n",
      "     |      builtins.object\n",
      "     |  \n",
      "     |  Methods inherited from FigletError:\n",
      "     |  \n",
      "     |  __init__(self, error)\n",
      "     |      Initialize self.  See help(type(self)) for accurate signature.\n",
      "     |  \n",
      "     |  __str__(self)\n",
      "     |      Return str(self).\n",
      "     |  \n",
      "     |  ----------------------------------------------------------------------\n",
      "     |  Data descriptors inherited from FigletError:\n",
      "     |  \n",
      "     |  __weakref__\n",
      "     |      list of weak references to the object (if defined)\n",
      "     |  \n",
      "     |  ----------------------------------------------------------------------\n",
      "     |  Static methods inherited from builtins.Exception:\n",
      "     |  \n",
      "     |  __new__(*args, **kwargs) from builtins.type\n",
      "     |      Create and return a new object.  See help(type) for accurate signature.\n",
      "     |  \n",
      "     |  ----------------------------------------------------------------------\n",
      "     |  Methods inherited from builtins.BaseException:\n",
      "     |  \n",
      "     |  __delattr__(self, name, /)\n",
      "     |      Implement delattr(self, name).\n",
      "     |  \n",
      "     |  __getattribute__(self, name, /)\n",
      "     |      Return getattr(self, name).\n",
      "     |  \n",
      "     |  __reduce__(...)\n",
      "     |      Helper for pickle.\n",
      "     |  \n",
      "     |  __repr__(self, /)\n",
      "     |      Return repr(self).\n",
      "     |  \n",
      "     |  __setattr__(self, name, value, /)\n",
      "     |      Implement setattr(self, name, value).\n",
      "     |  \n",
      "     |  __setstate__(...)\n",
      "     |  \n",
      "     |  with_traceback(...)\n",
      "     |      Exception.with_traceback(tb) --\n",
      "     |      set self.__traceback__ to tb and return self.\n",
      "     |  \n",
      "     |  ----------------------------------------------------------------------\n",
      "     |  Data descriptors inherited from builtins.BaseException:\n",
      "     |  \n",
      "     |  __cause__\n",
      "     |      exception cause\n",
      "     |  \n",
      "     |  __context__\n",
      "     |      exception context\n",
      "     |  \n",
      "     |  __dict__\n",
      "     |  \n",
      "     |  __suppress_context__\n",
      "     |  \n",
      "     |  __traceback__\n",
      "     |  \n",
      "     |  args\n",
      "    \n",
      "    class Figlet(builtins.object)\n",
      "     |  Figlet(font='standard', direction='auto', justify='auto', width=80)\n",
      "     |  \n",
      "     |  Main figlet class.\n",
      "     |  \n",
      "     |  Methods defined here:\n",
      "     |  \n",
      "     |  __init__(self, font='standard', direction='auto', justify='auto', width=80)\n",
      "     |      Initialize self.  See help(type(self)) for accurate signature.\n",
      "     |  \n",
      "     |  getDirection(self)\n",
      "     |  \n",
      "     |  getFonts(self)\n",
      "     |  \n",
      "     |  getJustify(self)\n",
      "     |  \n",
      "     |  renderText(self, text)\n",
      "     |  \n",
      "     |  setFont(self, **kwargs)\n",
      "     |  \n",
      "     |  ----------------------------------------------------------------------\n",
      "     |  Data descriptors defined here:\n",
      "     |  \n",
      "     |  __dict__\n",
      "     |      dictionary for instance variables (if defined)\n",
      "     |  \n",
      "     |  __weakref__\n",
      "     |      list of weak references to the object (if defined)\n",
      "     |  \n",
      "     |  direction\n",
      "     |  \n",
      "     |  justify\n",
      "    \n",
      "    class FigletBuilder(builtins.object)\n",
      "     |  FigletBuilder(text, font, direction, width, justify)\n",
      "     |  \n",
      "     |  Represent the internals of the build process\n",
      "     |  \n",
      "     |  Methods defined here:\n",
      "     |  \n",
      "     |  __init__(self, text, font, direction, width, justify)\n",
      "     |      Initialize self.  See help(type(self)) for accurate signature.\n",
      "     |  \n",
      "     |  addCharToProduct(self)\n",
      "     |  \n",
      "     |  addCurCharRowToBufferRow(self, curChar, row)\n",
      "     |  \n",
      "     |  blankExist(self, last_blank)\n",
      "     |  \n",
      "     |  currentSmushAmount(self, curChar)\n",
      "     |  \n",
      "     |  cutBufferAtLastBlank(self, saved_buffer, saved_iterator)\n",
      "     |  \n",
      "     |  cutBufferAtLastChar(self)\n",
      "     |  \n",
      "     |  cutBufferCommon(self)\n",
      "     |  \n",
      "     |  flushLastBuffer(self)\n",
      "     |  \n",
      "     |  formatProduct(self)\n",
      "     |      This create the output string representation from\n",
      "     |      the internal representation of the product\n",
      "     |  \n",
      "     |  getCharAt(self, i)\n",
      "     |  \n",
      "     |  getCharWidthAt(self, i)\n",
      "     |  \n",
      "     |  getCurChar(self)\n",
      "     |  \n",
      "     |  getCurWidth(self)\n",
      "     |  \n",
      "     |  getLastBlank(self)\n",
      "     |  \n",
      "     |  getLeftSmushedChar(self, i, addLeft)\n",
      "     |  \n",
      "     |  goToNextChar(self)\n",
      "     |  \n",
      "     |  handleNewLine(self)\n",
      "     |  \n",
      "     |  isNotFinished(self)\n",
      "     |  \n",
      "     |  justifyString(self, justify, buffer)\n",
      "     |  \n",
      "     |  replaceHardblanks(self, buffer)\n",
      "     |  \n",
      "     |  returnProduct(self)\n",
      "     |      Returns the output string created by formatProduct\n",
      "     |  \n",
      "     |  smushAmount(self, buffer=[], curChar=[])\n",
      "     |      Calculate the amount of smushing we can do between this char and the\n",
      "     |      last If this is the first char it will throw a series of exceptions\n",
      "     |      which are caught and cause appropriate values to be set for later.\n",
      "     |      \n",
      "     |      This differs from C figlet which will just get bogus values from\n",
      "     |      memory and then discard them after.\n",
      "     |  \n",
      "     |  smushChars(self, left='', right='')\n",
      "     |      Given 2 characters which represent the edges rendered figlet\n",
      "     |      fonts where they would touch, see if they can be smushed together.\n",
      "     |      Returns None if this cannot or should not be done.\n",
      "     |  \n",
      "     |  smushRow(self, curChar, row)\n",
      "     |  \n",
      "     |  updateSmushedCharInLeftBuffer(self, addLeft, idx, smushed)\n",
      "     |  \n",
      "     |  ----------------------------------------------------------------------\n",
      "     |  Data descriptors defined here:\n",
      "     |  \n",
      "     |  __dict__\n",
      "     |      dictionary for instance variables (if defined)\n",
      "     |  \n",
      "     |  __weakref__\n",
      "     |      list of weak references to the object (if defined)\n",
      "    \n",
      "    class FigletError(builtins.Exception)\n",
      "     |  FigletError(error)\n",
      "     |  \n",
      "     |  Common base class for all non-exit exceptions.\n",
      "     |  \n",
      "     |  Method resolution order:\n",
      "     |      FigletError\n",
      "     |      builtins.Exception\n",
      "     |      builtins.BaseException\n",
      "     |      builtins.object\n",
      "     |  \n",
      "     |  Methods defined here:\n",
      "     |  \n",
      "     |  __init__(self, error)\n",
      "     |      Initialize self.  See help(type(self)) for accurate signature.\n",
      "     |  \n",
      "     |  __str__(self)\n",
      "     |      Return str(self).\n",
      "     |  \n",
      "     |  ----------------------------------------------------------------------\n",
      "     |  Data descriptors defined here:\n",
      "     |  \n",
      "     |  __weakref__\n",
      "     |      list of weak references to the object (if defined)\n",
      "     |  \n",
      "     |  ----------------------------------------------------------------------\n",
      "     |  Static methods inherited from builtins.Exception:\n",
      "     |  \n",
      "     |  __new__(*args, **kwargs) from builtins.type\n",
      "     |      Create and return a new object.  See help(type) for accurate signature.\n",
      "     |  \n",
      "     |  ----------------------------------------------------------------------\n",
      "     |  Methods inherited from builtins.BaseException:\n",
      "     |  \n",
      "     |  __delattr__(self, name, /)\n",
      "     |      Implement delattr(self, name).\n",
      "     |  \n",
      "     |  __getattribute__(self, name, /)\n",
      "     |      Return getattr(self, name).\n",
      "     |  \n",
      "     |  __reduce__(...)\n",
      "     |      Helper for pickle.\n",
      "     |  \n",
      "     |  __repr__(self, /)\n",
      "     |      Return repr(self).\n",
      "     |  \n",
      "     |  __setattr__(self, name, value, /)\n",
      "     |      Implement setattr(self, name, value).\n",
      "     |  \n",
      "     |  __setstate__(...)\n",
      "     |  \n",
      "     |  with_traceback(...)\n",
      "     |      Exception.with_traceback(tb) --\n",
      "     |      set self.__traceback__ to tb and return self.\n",
      "     |  \n",
      "     |  ----------------------------------------------------------------------\n",
      "     |  Data descriptors inherited from builtins.BaseException:\n",
      "     |  \n",
      "     |  __cause__\n",
      "     |      exception cause\n",
      "     |  \n",
      "     |  __context__\n",
      "     |      exception context\n",
      "     |  \n",
      "     |  __dict__\n",
      "     |  \n",
      "     |  __suppress_context__\n",
      "     |  \n",
      "     |  __traceback__\n",
      "     |  \n",
      "     |  args\n",
      "    \n",
      "    class FigletFont(builtins.object)\n",
      "     |  FigletFont(font='standard')\n",
      "     |  \n",
      "     |  This class represents the currently loaded font, including\n",
      "     |  meta-data about how it should be displayed by default\n",
      "     |  \n",
      "     |  Methods defined here:\n",
      "     |  \n",
      "     |  __init__(self, font='standard')\n",
      "     |      Initialize self.  See help(type(self)) for accurate signature.\n",
      "     |  \n",
      "     |  __str__(self)\n",
      "     |      Return str(self).\n",
      "     |  \n",
      "     |  loadFont(self)\n",
      "     |      Parse loaded font data for the rendering engine to consume\n",
      "     |  \n",
      "     |  ----------------------------------------------------------------------\n",
      "     |  Class methods defined here:\n",
      "     |  \n",
      "     |  getFonts() from builtins.type\n",
      "     |  \n",
      "     |  infoFont(font, short=False) from builtins.type\n",
      "     |      Get informations of font\n",
      "     |  \n",
      "     |  isValidFont(font) from builtins.type\n",
      "     |  \n",
      "     |  preloadFont(font) from builtins.type\n",
      "     |      Load font data if exist\n",
      "     |  \n",
      "     |  ----------------------------------------------------------------------\n",
      "     |  Static methods defined here:\n",
      "     |  \n",
      "     |  installFonts(file_name)\n",
      "     |      Install the specified font file to this system.\n",
      "     |  \n",
      "     |  ----------------------------------------------------------------------\n",
      "     |  Data descriptors defined here:\n",
      "     |  \n",
      "     |  __dict__\n",
      "     |      dictionary for instance variables (if defined)\n",
      "     |  \n",
      "     |  __weakref__\n",
      "     |      list of weak references to the object (if defined)\n",
      "     |  \n",
      "     |  ----------------------------------------------------------------------\n",
      "     |  Data and other attributes defined here:\n",
      "     |  \n",
      "     |  reEndMarker = re.compile('(.)\\\\s*$')\n",
      "     |  \n",
      "     |  reMagicNumber = re.compile('^[tf]lf2.')\n",
      "    \n",
      "    class FigletProduct(builtins.object)\n",
      "     |  This class stores the internal build part of\n",
      "     |  the ascii output string\n",
      "     |  \n",
      "     |  Methods defined here:\n",
      "     |  \n",
      "     |  __init__(self)\n",
      "     |      Initialize self.  See help(type(self)) for accurate signature.\n",
      "     |  \n",
      "     |  append(self, buffer)\n",
      "     |  \n",
      "     |  getString(self)\n",
      "     |  \n",
      "     |  ----------------------------------------------------------------------\n",
      "     |  Data descriptors defined here:\n",
      "     |  \n",
      "     |  __dict__\n",
      "     |      dictionary for instance variables (if defined)\n",
      "     |  \n",
      "     |  __weakref__\n",
      "     |      list of weak references to the object (if defined)\n",
      "    \n",
      "    class FigletRenderingEngine(builtins.object)\n",
      "     |  FigletRenderingEngine(base=None)\n",
      "     |  \n",
      "     |  This class handles the rendering of a FigletFont,\n",
      "     |  including smushing/kerning/justification/direction\n",
      "     |  \n",
      "     |  Methods defined here:\n",
      "     |  \n",
      "     |  __init__(self, base=None)\n",
      "     |      Initialize self.  See help(type(self)) for accurate signature.\n",
      "     |  \n",
      "     |  render(self, text)\n",
      "     |      Render an ASCII text string in figlet\n",
      "     |  \n",
      "     |  ----------------------------------------------------------------------\n",
      "     |  Data descriptors defined here:\n",
      "     |  \n",
      "     |  __dict__\n",
      "     |      dictionary for instance variables (if defined)\n",
      "     |  \n",
      "     |  __weakref__\n",
      "     |      list of weak references to the object (if defined)\n",
      "    \n",
      "    class FigletString(builtins.str)\n",
      "     |  Rendered figlet font\n",
      "     |  \n",
      "     |  Method resolution order:\n",
      "     |      FigletString\n",
      "     |      builtins.str\n",
      "     |      builtins.object\n",
      "     |  \n",
      "     |  Methods defined here:\n",
      "     |  \n",
      "     |  flip(self)\n",
      "     |  \n",
      "     |  newFromList(self, list)\n",
      "     |  \n",
      "     |  reverse(self)\n",
      "     |  \n",
      "     |  ----------------------------------------------------------------------\n",
      "     |  Data descriptors defined here:\n",
      "     |  \n",
      "     |  __dict__\n",
      "     |      dictionary for instance variables (if defined)\n",
      "     |  \n",
      "     |  __weakref__\n",
      "     |      list of weak references to the object (if defined)\n",
      "     |  \n",
      "     |  ----------------------------------------------------------------------\n",
      "     |  Data and other attributes defined here:\n",
      "     |  \n",
      "     |  __flip_map__ = '\\x00\\x01\\x02\\x03\\x04\\x05\\x06\\x07\\x08\\t\\n\\x0b\\x0c\\r\\x0e...\n",
      "     |  \n",
      "     |  __reverse_map__ = '\\x00\\x01\\x02\\x03\\x04\\x05\\x06\\x07\\x08\\t\\n\\x0b\\x0c\\r\\...\n",
      "     |  \n",
      "     |  ----------------------------------------------------------------------\n",
      "     |  Methods inherited from builtins.str:\n",
      "     |  \n",
      "     |  __add__(self, value, /)\n",
      "     |      Return self+value.\n",
      "     |  \n",
      "     |  __contains__(self, key, /)\n",
      "     |      Return key in self.\n",
      "     |  \n",
      "     |  __eq__(self, value, /)\n",
      "     |      Return self==value.\n",
      "     |  \n",
      "     |  __format__(self, format_spec, /)\n",
      "     |      Return a formatted version of the string as described by format_spec.\n",
      "     |  \n",
      "     |  __ge__(self, value, /)\n",
      "     |      Return self>=value.\n",
      "     |  \n",
      "     |  __getattribute__(self, name, /)\n",
      "     |      Return getattr(self, name).\n",
      "     |  \n",
      "     |  __getitem__(self, key, /)\n",
      "     |      Return self[key].\n",
      "     |  \n",
      "     |  __getnewargs__(...)\n",
      "     |  \n",
      "     |  __gt__(self, value, /)\n",
      "     |      Return self>value.\n",
      "     |  \n",
      "     |  __hash__(self, /)\n",
      "     |      Return hash(self).\n",
      "     |  \n",
      "     |  __iter__(self, /)\n",
      "     |      Implement iter(self).\n",
      "     |  \n",
      "     |  __le__(self, value, /)\n",
      "     |      Return self<=value.\n",
      "     |  \n",
      "     |  __len__(self, /)\n",
      "     |      Return len(self).\n",
      "     |  \n",
      "     |  __lt__(self, value, /)\n",
      "     |      Return self<value.\n",
      "     |  \n",
      "     |  __mod__(self, value, /)\n",
      "     |      Return self%value.\n",
      "     |  \n",
      "     |  __mul__(self, value, /)\n",
      "     |      Return self*value.\n",
      "     |  \n",
      "     |  __ne__(self, value, /)\n",
      "     |      Return self!=value.\n",
      "     |  \n",
      "     |  __repr__(self, /)\n",
      "     |      Return repr(self).\n",
      "     |  \n",
      "     |  __rmod__(self, value, /)\n",
      "     |      Return value%self.\n",
      "     |  \n",
      "     |  __rmul__(self, value, /)\n",
      "     |      Return value*self.\n",
      "     |  \n",
      "     |  __sizeof__(self, /)\n",
      "     |      Return the size of the string in memory, in bytes.\n",
      "     |  \n",
      "     |  __str__(self, /)\n",
      "     |      Return str(self).\n",
      "     |  \n",
      "     |  capitalize(self, /)\n",
      "     |      Return a capitalized version of the string.\n",
      "     |      \n",
      "     |      More specifically, make the first character have upper case and the rest lower\n",
      "     |      case.\n",
      "     |  \n",
      "     |  casefold(self, /)\n",
      "     |      Return a version of the string suitable for caseless comparisons.\n",
      "     |  \n",
      "     |  center(self, width, fillchar=' ', /)\n",
      "     |      Return a centered string of length width.\n",
      "     |      \n",
      "     |      Padding is done using the specified fill character (default is a space).\n",
      "     |  \n",
      "     |  count(...)\n",
      "     |      S.count(sub[, start[, end]]) -> int\n",
      "     |      \n",
      "     |      Return the number of non-overlapping occurrences of substring sub in\n",
      "     |      string S[start:end].  Optional arguments start and end are\n",
      "     |      interpreted as in slice notation.\n",
      "     |  \n",
      "     |  encode(self, /, encoding='utf-8', errors='strict')\n",
      "     |      Encode the string using the codec registered for encoding.\n",
      "     |      \n",
      "     |      encoding\n",
      "     |        The encoding in which to encode the string.\n",
      "     |      errors\n",
      "     |        The error handling scheme to use for encoding errors.\n",
      "     |        The default is 'strict' meaning that encoding errors raise a\n",
      "     |        UnicodeEncodeError.  Other possible values are 'ignore', 'replace' and\n",
      "     |        'xmlcharrefreplace' as well as any other name registered with\n",
      "     |        codecs.register_error that can handle UnicodeEncodeErrors.\n",
      "     |  \n",
      "     |  endswith(...)\n",
      "     |      S.endswith(suffix[, start[, end]]) -> bool\n",
      "     |      \n",
      "     |      Return True if S ends with the specified suffix, False otherwise.\n",
      "     |      With optional start, test S beginning at that position.\n",
      "     |      With optional end, stop comparing S at that position.\n",
      "     |      suffix can also be a tuple of strings to try.\n",
      "     |  \n",
      "     |  expandtabs(self, /, tabsize=8)\n",
      "     |      Return a copy where all tab characters are expanded using spaces.\n",
      "     |      \n",
      "     |      If tabsize is not given, a tab size of 8 characters is assumed.\n",
      "     |  \n",
      "     |  find(...)\n",
      "     |      S.find(sub[, start[, end]]) -> int\n",
      "     |      \n",
      "     |      Return the lowest index in S where substring sub is found,\n",
      "     |      such that sub is contained within S[start:end].  Optional\n",
      "     |      arguments start and end are interpreted as in slice notation.\n",
      "     |      \n",
      "     |      Return -1 on failure.\n",
      "     |  \n",
      "     |  format(...)\n",
      "     |      S.format(*args, **kwargs) -> str\n",
      "     |      \n",
      "     |      Return a formatted version of S, using substitutions from args and kwargs.\n",
      "     |      The substitutions are identified by braces ('{' and '}').\n",
      "     |  \n",
      "     |  format_map(...)\n",
      "     |      S.format_map(mapping) -> str\n",
      "     |      \n",
      "     |      Return a formatted version of S, using substitutions from mapping.\n",
      "     |      The substitutions are identified by braces ('{' and '}').\n",
      "     |  \n",
      "     |  index(...)\n",
      "     |      S.index(sub[, start[, end]]) -> int\n",
      "     |      \n",
      "     |      Return the lowest index in S where substring sub is found, \n",
      "     |      such that sub is contained within S[start:end].  Optional\n",
      "     |      arguments start and end are interpreted as in slice notation.\n",
      "     |      \n",
      "     |      Raises ValueError when the substring is not found.\n",
      "     |  \n",
      "     |  isalnum(self, /)\n",
      "     |      Return True if the string is an alpha-numeric string, False otherwise.\n",
      "     |      \n",
      "     |      A string is alpha-numeric if all characters in the string are alpha-numeric and\n",
      "     |      there is at least one character in the string.\n",
      "     |  \n",
      "     |  isalpha(self, /)\n",
      "     |      Return True if the string is an alphabetic string, False otherwise.\n",
      "     |      \n",
      "     |      A string is alphabetic if all characters in the string are alphabetic and there\n",
      "     |      is at least one character in the string.\n",
      "     |  \n",
      "     |  isascii(self, /)\n",
      "     |      Return True if all characters in the string are ASCII, False otherwise.\n",
      "     |      \n",
      "     |      ASCII characters have code points in the range U+0000-U+007F.\n",
      "     |      Empty string is ASCII too.\n",
      "     |  \n",
      "     |  isdecimal(self, /)\n",
      "     |      Return True if the string is a decimal string, False otherwise.\n",
      "     |      \n",
      "     |      A string is a decimal string if all characters in the string are decimal and\n",
      "     |      there is at least one character in the string.\n",
      "     |  \n",
      "     |  isdigit(self, /)\n",
      "     |      Return True if the string is a digit string, False otherwise.\n",
      "     |      \n",
      "     |      A string is a digit string if all characters in the string are digits and there\n",
      "     |      is at least one character in the string.\n",
      "     |  \n",
      "     |  isidentifier(self, /)\n",
      "     |      Return True if the string is a valid Python identifier, False otherwise.\n",
      "     |      \n",
      "     |      Use keyword.iskeyword() to test for reserved identifiers such as \"def\" and\n",
      "     |      \"class\".\n",
      "     |  \n",
      "     |  islower(self, /)\n",
      "     |      Return True if the string is a lowercase string, False otherwise.\n",
      "     |      \n",
      "     |      A string is lowercase if all cased characters in the string are lowercase and\n",
      "     |      there is at least one cased character in the string.\n",
      "     |  \n",
      "     |  isnumeric(self, /)\n",
      "     |      Return True if the string is a numeric string, False otherwise.\n",
      "     |      \n",
      "     |      A string is numeric if all characters in the string are numeric and there is at\n",
      "     |      least one character in the string.\n",
      "     |  \n",
      "     |  isprintable(self, /)\n",
      "     |      Return True if the string is printable, False otherwise.\n",
      "     |      \n",
      "     |      A string is printable if all of its characters are considered printable in\n",
      "     |      repr() or if it is empty.\n",
      "     |  \n",
      "     |  isspace(self, /)\n",
      "     |      Return True if the string is a whitespace string, False otherwise.\n",
      "     |      \n",
      "     |      A string is whitespace if all characters in the string are whitespace and there\n",
      "     |      is at least one character in the string.\n",
      "     |  \n",
      "     |  istitle(self, /)\n",
      "     |      Return True if the string is a title-cased string, False otherwise.\n",
      "     |      \n",
      "     |      In a title-cased string, upper- and title-case characters may only\n",
      "     |      follow uncased characters and lowercase characters only cased ones.\n",
      "     |  \n",
      "     |  isupper(self, /)\n",
      "     |      Return True if the string is an uppercase string, False otherwise.\n",
      "     |      \n",
      "     |      A string is uppercase if all cased characters in the string are uppercase and\n",
      "     |      there is at least one cased character in the string.\n",
      "     |  \n",
      "     |  join(self, iterable, /)\n",
      "     |      Concatenate any number of strings.\n",
      "     |      \n",
      "     |      The string whose method is called is inserted in between each given string.\n",
      "     |      The result is returned as a new string.\n",
      "     |      \n",
      "     |      Example: '.'.join(['ab', 'pq', 'rs']) -> 'ab.pq.rs'\n",
      "     |  \n",
      "     |  ljust(self, width, fillchar=' ', /)\n",
      "     |      Return a left-justified string of length width.\n",
      "     |      \n",
      "     |      Padding is done using the specified fill character (default is a space).\n",
      "     |  \n",
      "     |  lower(self, /)\n",
      "     |      Return a copy of the string converted to lowercase.\n",
      "     |  \n",
      "     |  lstrip(self, chars=None, /)\n",
      "     |      Return a copy of the string with leading whitespace removed.\n",
      "     |      \n",
      "     |      If chars is given and not None, remove characters in chars instead.\n",
      "     |  \n",
      "     |  partition(self, sep, /)\n",
      "     |      Partition the string into three parts using the given separator.\n",
      "     |      \n",
      "     |      This will search for the separator in the string.  If the separator is found,\n",
      "     |      returns a 3-tuple containing the part before the separator, the separator\n",
      "     |      itself, and the part after it.\n",
      "     |      \n",
      "     |      If the separator is not found, returns a 3-tuple containing the original string\n",
      "     |      and two empty strings.\n",
      "     |  \n",
      "     |  replace(self, old, new, count=-1, /)\n",
      "     |      Return a copy with all occurrences of substring old replaced by new.\n",
      "     |      \n",
      "     |        count\n",
      "     |          Maximum number of occurrences to replace.\n",
      "     |          -1 (the default value) means replace all occurrences.\n",
      "     |      \n",
      "     |      If the optional argument count is given, only the first count occurrences are\n",
      "     |      replaced.\n",
      "     |  \n",
      "     |  rfind(...)\n",
      "     |      S.rfind(sub[, start[, end]]) -> int\n",
      "     |      \n",
      "     |      Return the highest index in S where substring sub is found,\n",
      "     |      such that sub is contained within S[start:end].  Optional\n",
      "     |      arguments start and end are interpreted as in slice notation.\n",
      "     |      \n",
      "     |      Return -1 on failure.\n",
      "     |  \n",
      "     |  rindex(...)\n",
      "     |      S.rindex(sub[, start[, end]]) -> int\n",
      "     |      \n",
      "     |      Return the highest index in S where substring sub is found,\n",
      "     |      such that sub is contained within S[start:end].  Optional\n",
      "     |      arguments start and end are interpreted as in slice notation.\n",
      "     |      \n",
      "     |      Raises ValueError when the substring is not found.\n",
      "     |  \n",
      "     |  rjust(self, width, fillchar=' ', /)\n",
      "     |      Return a right-justified string of length width.\n",
      "     |      \n",
      "     |      Padding is done using the specified fill character (default is a space).\n",
      "     |  \n",
      "     |  rpartition(self, sep, /)\n",
      "     |      Partition the string into three parts using the given separator.\n",
      "     |      \n",
      "     |      This will search for the separator in the string, starting at the end. If\n",
      "     |      the separator is found, returns a 3-tuple containing the part before the\n",
      "     |      separator, the separator itself, and the part after it.\n",
      "     |      \n",
      "     |      If the separator is not found, returns a 3-tuple containing two empty strings\n",
      "     |      and the original string.\n",
      "     |  \n",
      "     |  rsplit(self, /, sep=None, maxsplit=-1)\n",
      "     |      Return a list of the words in the string, using sep as the delimiter string.\n",
      "     |      \n",
      "     |        sep\n",
      "     |          The delimiter according which to split the string.\n",
      "     |          None (the default value) means split according to any whitespace,\n",
      "     |          and discard empty strings from the result.\n",
      "     |        maxsplit\n",
      "     |          Maximum number of splits to do.\n",
      "     |          -1 (the default value) means no limit.\n",
      "     |      \n",
      "     |      Splits are done starting at the end of the string and working to the front.\n",
      "     |  \n",
      "     |  rstrip(self, chars=None, /)\n",
      "     |      Return a copy of the string with trailing whitespace removed.\n",
      "     |      \n",
      "     |      If chars is given and not None, remove characters in chars instead.\n",
      "     |  \n",
      "     |  split(self, /, sep=None, maxsplit=-1)\n",
      "     |      Return a list of the words in the string, using sep as the delimiter string.\n",
      "     |      \n",
      "     |      sep\n",
      "     |        The delimiter according which to split the string.\n",
      "     |        None (the default value) means split according to any whitespace,\n",
      "     |        and discard empty strings from the result.\n",
      "     |      maxsplit\n",
      "     |        Maximum number of splits to do.\n",
      "     |        -1 (the default value) means no limit.\n",
      "     |  \n",
      "     |  splitlines(self, /, keepends=False)\n",
      "     |      Return a list of the lines in the string, breaking at line boundaries.\n",
      "     |      \n",
      "     |      Line breaks are not included in the resulting list unless keepends is given and\n",
      "     |      true.\n",
      "     |  \n",
      "     |  startswith(...)\n",
      "     |      S.startswith(prefix[, start[, end]]) -> bool\n",
      "     |      \n",
      "     |      Return True if S starts with the specified prefix, False otherwise.\n",
      "     |      With optional start, test S beginning at that position.\n",
      "     |      With optional end, stop comparing S at that position.\n",
      "     |      prefix can also be a tuple of strings to try.\n",
      "     |  \n",
      "     |  strip(self, chars=None, /)\n",
      "     |      Return a copy of the string with leading and trailing whitespace remove.\n",
      "     |      \n",
      "     |      If chars is given and not None, remove characters in chars instead.\n",
      "     |  \n",
      "     |  swapcase(self, /)\n",
      "     |      Convert uppercase characters to lowercase and lowercase characters to uppercase.\n",
      "     |  \n",
      "     |  title(self, /)\n",
      "     |      Return a version of the string where each word is titlecased.\n",
      "     |      \n",
      "     |      More specifically, words start with uppercased characters and all remaining\n",
      "     |      cased characters have lower case.\n",
      "     |  \n",
      "     |  translate(self, table, /)\n",
      "     |      Replace each character in the string using the given translation table.\n",
      "     |      \n",
      "     |        table\n",
      "     |          Translation table, which must be a mapping of Unicode ordinals to\n",
      "     |          Unicode ordinals, strings, or None.\n",
      "     |      \n",
      "     |      The table must implement lookup/indexing via __getitem__, for instance a\n",
      "     |      dictionary or list.  If this operation raises LookupError, the character is\n",
      "     |      left untouched.  Characters mapped to None are deleted.\n",
      "     |  \n",
      "     |  upper(self, /)\n",
      "     |      Return a copy of the string converted to uppercase.\n",
      "     |  \n",
      "     |  zfill(self, width, /)\n",
      "     |      Pad a numeric string with zeros on the left, to fill a field of the given width.\n",
      "     |      \n",
      "     |      The string is never truncated.\n",
      "     |  \n",
      "     |  ----------------------------------------------------------------------\n",
      "     |  Static methods inherited from builtins.str:\n",
      "     |  \n",
      "     |  __new__(*args, **kwargs) from builtins.type\n",
      "     |      Create and return a new object.  See help(type) for accurate signature.\n",
      "     |  \n",
      "     |  maketrans(x, y=None, z=None, /)\n",
      "     |      Return a translation table usable for str.translate().\n",
      "     |      \n",
      "     |      If there is only one argument, it must be a dictionary mapping Unicode\n",
      "     |      ordinals (integers) or characters to Unicode ordinals, strings or None.\n",
      "     |      Character keys will be then converted to ordinals.\n",
      "     |      If there are two arguments, they must be strings of equal length, and\n",
      "     |      in the resulting dictionary, each character in x will be mapped to the\n",
      "     |      character at the same position in y. If there is a third argument, it\n",
      "     |      must be a string, whose characters will be mapped to None in the result.\n",
      "    \n",
      "    class FontError(FigletError)\n",
      "     |  FontError(error)\n",
      "     |  \n",
      "     |  Raised when there is a problem parsing a font file\n",
      "     |  \n",
      "     |  Method resolution order:\n",
      "     |      FontError\n",
      "     |      FigletError\n",
      "     |      builtins.Exception\n",
      "     |      builtins.BaseException\n",
      "     |      builtins.object\n",
      "     |  \n",
      "     |  Methods inherited from FigletError:\n",
      "     |  \n",
      "     |  __init__(self, error)\n",
      "     |      Initialize self.  See help(type(self)) for accurate signature.\n",
      "     |  \n",
      "     |  __str__(self)\n",
      "     |      Return str(self).\n",
      "     |  \n",
      "     |  ----------------------------------------------------------------------\n",
      "     |  Data descriptors inherited from FigletError:\n",
      "     |  \n",
      "     |  __weakref__\n",
      "     |      list of weak references to the object (if defined)\n",
      "     |  \n",
      "     |  ----------------------------------------------------------------------\n",
      "     |  Static methods inherited from builtins.Exception:\n",
      "     |  \n",
      "     |  __new__(*args, **kwargs) from builtins.type\n",
      "     |      Create and return a new object.  See help(type) for accurate signature.\n",
      "     |  \n",
      "     |  ----------------------------------------------------------------------\n",
      "     |  Methods inherited from builtins.BaseException:\n",
      "     |  \n",
      "     |  __delattr__(self, name, /)\n",
      "     |      Implement delattr(self, name).\n",
      "     |  \n",
      "     |  __getattribute__(self, name, /)\n",
      "     |      Return getattr(self, name).\n",
      "     |  \n",
      "     |  __reduce__(...)\n",
      "     |      Helper for pickle.\n",
      "     |  \n",
      "     |  __repr__(self, /)\n",
      "     |      Return repr(self).\n",
      "     |  \n",
      "     |  __setattr__(self, name, value, /)\n",
      "     |      Implement setattr(self, name, value).\n",
      "     |  \n",
      "     |  __setstate__(...)\n",
      "     |  \n",
      "     |  with_traceback(...)\n",
      "     |      Exception.with_traceback(tb) --\n",
      "     |      set self.__traceback__ to tb and return self.\n",
      "     |  \n",
      "     |  ----------------------------------------------------------------------\n",
      "     |  Data descriptors inherited from builtins.BaseException:\n",
      "     |  \n",
      "     |  __cause__\n",
      "     |      exception cause\n",
      "     |  \n",
      "     |  __context__\n",
      "     |      exception context\n",
      "     |  \n",
      "     |  __dict__\n",
      "     |  \n",
      "     |  __suppress_context__\n",
      "     |  \n",
      "     |  __traceback__\n",
      "     |  \n",
      "     |  args\n",
      "    \n",
      "    class FontNotFound(FigletError)\n",
      "     |  FontNotFound(error)\n",
      "     |  \n",
      "     |  Raised when a font can't be located\n",
      "     |  \n",
      "     |  Method resolution order:\n",
      "     |      FontNotFound\n",
      "     |      FigletError\n",
      "     |      builtins.Exception\n",
      "     |      builtins.BaseException\n",
      "     |      builtins.object\n",
      "     |  \n",
      "     |  Methods inherited from FigletError:\n",
      "     |  \n",
      "     |  __init__(self, error)\n",
      "     |      Initialize self.  See help(type(self)) for accurate signature.\n",
      "     |  \n",
      "     |  __str__(self)\n",
      "     |      Return str(self).\n",
      "     |  \n",
      "     |  ----------------------------------------------------------------------\n",
      "     |  Data descriptors inherited from FigletError:\n",
      "     |  \n",
      "     |  __weakref__\n",
      "     |      list of weak references to the object (if defined)\n",
      "     |  \n",
      "     |  ----------------------------------------------------------------------\n",
      "     |  Static methods inherited from builtins.Exception:\n",
      "     |  \n",
      "     |  __new__(*args, **kwargs) from builtins.type\n",
      "     |      Create and return a new object.  See help(type) for accurate signature.\n",
      "     |  \n",
      "     |  ----------------------------------------------------------------------\n",
      "     |  Methods inherited from builtins.BaseException:\n",
      "     |  \n",
      "     |  __delattr__(self, name, /)\n",
      "     |      Implement delattr(self, name).\n",
      "     |  \n",
      "     |  __getattribute__(self, name, /)\n",
      "     |      Return getattr(self, name).\n",
      "     |  \n",
      "     |  __reduce__(...)\n",
      "     |      Helper for pickle.\n",
      "     |  \n",
      "     |  __repr__(self, /)\n",
      "     |      Return repr(self).\n",
      "     |  \n",
      "     |  __setattr__(self, name, value, /)\n",
      "     |      Implement setattr(self, name, value).\n",
      "     |  \n",
      "     |  __setstate__(...)\n",
      "     |  \n",
      "     |  with_traceback(...)\n",
      "     |      Exception.with_traceback(tb) --\n",
      "     |      set self.__traceback__ to tb and return self.\n",
      "     |  \n",
      "     |  ----------------------------------------------------------------------\n",
      "     |  Data descriptors inherited from builtins.BaseException:\n",
      "     |  \n",
      "     |  __cause__\n",
      "     |      exception cause\n",
      "     |  \n",
      "     |  __context__\n",
      "     |      exception context\n",
      "     |  \n",
      "     |  __dict__\n",
      "     |  \n",
      "     |  __suppress_context__\n",
      "     |  \n",
      "     |  __traceback__\n",
      "     |  \n",
      "     |  args\n",
      "    \n",
      "    class InvalidColor(FigletError)\n",
      "     |  InvalidColor(error)\n",
      "     |  \n",
      "     |  Raised when the color passed is invalid\n",
      "     |  \n",
      "     |  Method resolution order:\n",
      "     |      InvalidColor\n",
      "     |      FigletError\n",
      "     |      builtins.Exception\n",
      "     |      builtins.BaseException\n",
      "     |      builtins.object\n",
      "     |  \n",
      "     |  Methods inherited from FigletError:\n",
      "     |  \n",
      "     |  __init__(self, error)\n",
      "     |      Initialize self.  See help(type(self)) for accurate signature.\n",
      "     |  \n",
      "     |  __str__(self)\n",
      "     |      Return str(self).\n",
      "     |  \n",
      "     |  ----------------------------------------------------------------------\n",
      "     |  Data descriptors inherited from FigletError:\n",
      "     |  \n",
      "     |  __weakref__\n",
      "     |      list of weak references to the object (if defined)\n",
      "     |  \n",
      "     |  ----------------------------------------------------------------------\n",
      "     |  Static methods inherited from builtins.Exception:\n",
      "     |  \n",
      "     |  __new__(*args, **kwargs) from builtins.type\n",
      "     |      Create and return a new object.  See help(type) for accurate signature.\n",
      "     |  \n",
      "     |  ----------------------------------------------------------------------\n",
      "     |  Methods inherited from builtins.BaseException:\n",
      "     |  \n",
      "     |  __delattr__(self, name, /)\n",
      "     |      Implement delattr(self, name).\n",
      "     |  \n",
      "     |  __getattribute__(self, name, /)\n",
      "     |      Return getattr(self, name).\n",
      "     |  \n",
      "     |  __reduce__(...)\n",
      "     |      Helper for pickle.\n",
      "     |  \n",
      "     |  __repr__(self, /)\n",
      "     |      Return repr(self).\n",
      "     |  \n",
      "     |  __setattr__(self, name, value, /)\n",
      "     |      Implement setattr(self, name, value).\n",
      "     |  \n",
      "     |  __setstate__(...)\n",
      "     |  \n",
      "     |  with_traceback(...)\n",
      "     |      Exception.with_traceback(tb) --\n",
      "     |      set self.__traceback__ to tb and return self.\n",
      "     |  \n",
      "     |  ----------------------------------------------------------------------\n",
      "     |  Data descriptors inherited from builtins.BaseException:\n",
      "     |  \n",
      "     |  __cause__\n",
      "     |      exception cause\n",
      "     |  \n",
      "     |  __context__\n",
      "     |      exception context\n",
      "     |  \n",
      "     |  __dict__\n",
      "     |  \n",
      "     |  __suppress_context__\n",
      "     |  \n",
      "     |  __traceback__\n",
      "     |  \n",
      "     |  args\n",
      "\n",
      "FUNCTIONS\n",
      "    color_to_ansi(color, isBackground)\n",
      "    \n",
      "    figlet_format(text, font='standard', **kwargs)\n",
      "    \n",
      "    main()\n",
      "    \n",
      "    parse_color(color)\n",
      "    \n",
      "    print_figlet(text, font='standard', colors=':', **kwargs)\n",
      "\n",
      "DATA\n",
      "    COLOR_CODES = {'BLACK': 30, 'BLUE': 34, 'CYAN': 36, 'DARK_GRAY': 90, '...\n",
      "    DEFAULT_FONT = 'standard'\n",
      "    RESET_COLORS = b'\\x1b[0m'\n",
      "    SHARED_DIRECTORY = r'C:\\Users\\Satish\\AppData\\Roaming\\pyfiglet'\n",
      "    __copyright__ = '\\nThe MIT License (MIT)\\nCopyright © 2007-2018\\n  C.....\n",
      "    print_function = _Feature((2, 6, 0, 'alpha', 2), (3, 0, 0, 'alpha', 0)...\n",
      "    unicode_literals = _Feature((2, 6, 0, 'alpha', 2), (3, 0, 0, 'alpha', ...\n",
      "\n",
      "VERSION\n",
      "    0.8.post1\n",
      "\n",
      "AUTHOR\n",
      "    Peter Waller <p@pwaller.net>\n",
      "\n",
      "FILE\n",
      "    c:\\users\\satish\\anaconda3\\lib\\site-packages\\pyfiglet\\__init__.py\n",
      "\n",
      "\n"
     ]
    }
   ],
   "source": [
    "help(pyfiglet)"
   ]
  },
  {
   "cell_type": "code",
   "execution_count": 1,
   "metadata": {},
   "outputs": [
    {
     "name": "stdout",
     "output_type": "stream",
     "text": [
      "print(value, ..., sep=' ', end='\\n', file=sys.stdout, flush=False)\n",
      "\n",
      "Prints the values to a stream, or to sys.stdout by default.\n",
      "Optional keyword arguments:\n",
      "file:  a file-like object (stream); defaults to the current sys.stdout.\n",
      "sep:   string inserted between values, default a space.\n",
      "end:   string appended after the last value, default a newline.\n",
      "flush: whether to forcibly flush the stream.\n"
     ]
    }
   ],
   "source": [
    "print (print.__doc__)"
   ]
  },
  {
   "cell_type": "code",
   "execution_count": 13,
   "metadata": {},
   "outputs": [],
   "source": [
    "def myfunc():\n",
    "    \"\"\"\n",
    "    This is my function. \n",
    "    I am defining this to explain difference between comments and documentation\n",
    "    \n",
    "    such a string is placed immediately after a function or \n",
    "    class definition or on top of a module, then they turn into docstrings\n",
    "    \n",
    "    A developer can access them using the following special variable \n",
    "    without having to open the function\n",
    "    \n",
    "    \"\"\"\n",
    "    print ()"
   ]
  },
  {
   "cell_type": "code",
   "execution_count": 14,
   "metadata": {},
   "outputs": [
    {
     "name": "stdout",
     "output_type": "stream",
     "text": [
      "\n",
      "    This is my function. \n",
      "    I am defining this to explain difference between comments and documentation\n",
      "    \n",
      "    such a string is placed immediately after a function or \n",
      "    class definition or on top of a module, then they turn into docstrings\n",
      "    \n",
      "    A developer can access them using the following special variable \n",
      "    without having to open the function\n",
      "    \n",
      "    \n"
     ]
    }
   ],
   "source": [
    "print (myfunc.__doc__)"
   ]
  },
  {
   "cell_type": "code",
   "execution_count": 11,
   "metadata": {},
   "outputs": [
    {
     "name": "stdout",
     "output_type": "stream",
     "text": [
      "\n",
      "    This is my function. \n",
      "    I am defining this to explain difference between comments and documentation\n",
      "    \n",
      "    such a string is placed immediately after a function or \n",
      "    class definition or on top of a module, then they turn into docstrings\n",
      "    \n",
      "    A developer can access them using the following special variable \n",
      "    without having to open the function\n",
      "    \n",
      "    print (myfunction.__doc__)\n",
      "    \n",
      "    \n"
     ]
    }
   ],
   "source": [
    "print (myfunc.__doc__)"
   ]
  },
  {
   "cell_type": "code",
   "execution_count": 11,
   "metadata": {},
   "outputs": [
    {
     "ename": "NameError",
     "evalue": "name 'lat' is not defined",
     "output_type": "error",
     "traceback": [
      "\u001b[1;31m---------------------------------------------------------------------------\u001b[0m",
      "\u001b[1;31mNameError\u001b[0m                                 Traceback (most recent call last)",
      "\u001b[1;32m<ipython-input-11-c2e1c13e907f>\u001b[0m in \u001b[0;36m<module>\u001b[1;34m\u001b[0m\n\u001b[0;32m      3\u001b[0m \u001b[1;33m\u001b[0m\u001b[0m\n\u001b[0;32m      4\u001b[0m \u001b[1;33m\u001b[0m\u001b[0m\n\u001b[1;32m----> 5\u001b[1;33m \u001b[0mdata\u001b[0m\u001b[1;33m=\u001b[0m\u001b[1;33m{\u001b[0m\u001b[0mlat\u001b[0m\u001b[1;33m:\u001b[0m \u001b[0mpd\u001b[0m\u001b[1;33m.\u001b[0m\u001b[0mSeries\u001b[0m\u001b[1;33m(\u001b[0m\u001b[1;33m[\u001b[0m\u001b[1;36m19\u001b[0m\u001b[1;33m,\u001b[0m\u001b[1;36m22\u001b[0m\u001b[1;33m,\u001b[0m\u001b[1;36m13\u001b[0m\u001b[1;33m,\u001b[0m\u001b[1;36m54\u001b[0m\u001b[1;33m,\u001b[0m\u001b[1;36m65\u001b[0m\u001b[1;33m]\u001b[0m\u001b[1;33m)\u001b[0m\u001b[1;33m,\u001b[0m\u001b[0mlong\u001b[0m\u001b[1;33m:\u001b[0m\u001b[0mpd\u001b[0m\u001b[1;33m.\u001b[0m\u001b[0mSeries\u001b[0m\u001b[1;33m(\u001b[0m\u001b[1;33m[\u001b[0m\u001b[1;36m60\u001b[0m\u001b[1;33m,\u001b[0m\u001b[1;36m75\u001b[0m\u001b[1;33m,\u001b[0m\u001b[1;36m58\u001b[0m\u001b[1;33m,\u001b[0m\u001b[1;36m85\u001b[0m\u001b[1;33m,\u001b[0m\u001b[1;36m79\u001b[0m\u001b[1;33m]\u001b[0m\u001b[1;33m)\u001b[0m\u001b[1;33m}\u001b[0m\u001b[1;33m\u001b[0m\u001b[1;33m\u001b[0m\u001b[0m\n\u001b[0m\u001b[0;32m      6\u001b[0m \u001b[0mdata1\u001b[0m\u001b[1;33m=\u001b[0m\u001b[0mpd\u001b[0m\u001b[1;33m.\u001b[0m\u001b[0mDataFrame\u001b[0m\u001b[1;33m(\u001b[0m\u001b[0mdata\u001b[0m\u001b[1;33m)\u001b[0m\u001b[1;33m\u001b[0m\u001b[1;33m\u001b[0m\u001b[0m\n\u001b[0;32m      7\u001b[0m \u001b[1;33m\u001b[0m\u001b[0m\n",
      "\u001b[1;31mNameError\u001b[0m: name 'lat' is not defined"
     ]
    }
   ],
   "source": [
    "import pandas as pd\n",
    "import numpy\n",
    "\n",
    "\n",
    "data={lat: pd.Series([19,22,13,54,65]),long:pd.Series([60,75,58,85,79])} \n",
    "data1=pd.DataFrame(data)\n",
    "\n",
    "'''\n",
    "l1=[{'lat': 19, 'long':60},{ 'lat': 22, 'long':75}] \n",
    "data1=pd.DataFrame(l1)\n",
    "'''\n",
    "\n",
    "print (data1)\n",
    "print (\"Exit\")"
   ]
  },
  {
   "cell_type": "code",
   "execution_count": 9,
   "metadata": {},
   "outputs": [
    {
     "name": "stdout",
     "output_type": "stream",
     "text": [
      "123456789101112131415161718192021222324252627282930313233343536373839404142434445464748495051525354555657585960616263646566676869707172737475767778798081828384858687888990919293949596979899100"
     ]
    }
   ],
   "source": [
    "for n in range(1,101):\n",
    "    print (n,end='')"
   ]
  },
  {
   "cell_type": "code",
   "execution_count": 18,
   "metadata": {},
   "outputs": [
    {
     "name": "stdout",
     "output_type": "stream",
     "text": [
      "['1', 'W', '2', 'R', '3', 'O', '4ng']\n",
      "1 W 2 R 3 O 4ng\n",
      "['Hello', 'World', 'Lol']\n",
      "Hello World Lol\n"
     ]
    }
   ],
   "source": [
    "def solve(s):\n",
    "#    lst = [word[0].upper() + word[1:] for word in s.split()]\n",
    "    lst = [word.capitalize() for word in s.split()]\n",
    "    print (lst)\n",
    "    res = \" \".join(lst)\n",
    "    return res\n",
    "        \n",
    "\n",
    "result = solve(\"1 w    2 r 3 o 4ng\")\n",
    "print (result)\n",
    "result =solve(\"Hello World lol\")\n",
    "\n",
    "print (result)\n"
   ]
  },
  {
   "cell_type": "code",
   "execution_count": 14,
   "metadata": {},
   "outputs": [
    {
     "name": "stdout",
     "output_type": "stream",
     "text": [
      "['Hello', 'World', 'lol']\n"
     ]
    }
   ],
   "source": [
    "'''def solve(s):\n",
    "    l = list(s)\n",
    "'''\n",
    "\n",
    "s=\"Hello World lol\"\n",
    "\n",
    "s1=s.split()\n",
    "\n",
    "print(s1)"
   ]
  },
  {
   "cell_type": "code",
   "execution_count": 30,
   "metadata": {},
   "outputs": [
    {
     "name": "stdout",
     "output_type": "stream",
     "text": [
      "Hello      World     3m   4lol\n"
     ]
    }
   ],
   "source": [
    "# This code converts 1st character of a word to uppercase in a given sentence. If the sentence has multiple\n",
    "#spaces between words, they need to be maintained. \n",
    "\n",
    "def solve(s):\n",
    "    lis1 = []\n",
    "    word = ''\n",
    "    firstletter=True\n",
    "    \n",
    "    for c in s:\n",
    "        if c == ' ':\n",
    "            word += c\n",
    "            lis1.append(word)\n",
    "            word = ''\n",
    "            firstletter=True\n",
    "        else:\n",
    "            if firstletter:\n",
    "                word += c.upper()\n",
    "            else:\n",
    "                word += c.lower()\n",
    "            firstletter=False\n",
    "    if word:\n",
    "        lis1.append(word)\n",
    "    \n",
    "    s2 = \"\".join(lis1)\n",
    "    return s2\n",
    "\n",
    "s=\"hEllo      world     3M   4lol\"\n",
    "s1=solve(s)\n",
    "\n",
    "print (s1)\n",
    "\n",
    "#for s2 in s1:\n",
    "#    print(s2,end='')"
   ]
  },
  {
   "cell_type": "code",
   "execution_count": null,
   "metadata": {},
   "outputs": [],
   "source": [
    "'''\n",
    "Kevin and Stuart want to play the 'The Minion Game'.\n",
    "\n",
    "Game Rules\n",
    "\n",
    "Both players are given the same string, .\n",
    "Both players have to make substrings using the letters of the string .\n",
    "Stuart has to make words starting with consonants.\n",
    "Kevin has to make words starting with vowels.\n",
    "The game ends when both players have made all possible substrings.\n",
    "\n",
    "Scoring\n",
    "A player gets +1 point for each occurrence of the substring in the string .\n",
    "\n",
    "For Example:\n",
    "String  = BANANA\n",
    "Kevin's vowel beginning word = ANA\n",
    "Here, ANA occurs twice in BANANA. Hence, Kevin will get 2 Points.\n",
    "\n",
    "Print one line: the name of the winner and their score separated by a space.\n",
    "\n",
    "If the game is a draw, print Draw.\n",
    "'''\n",
    "vowel=(\"AEIOU\")\n",
    "\n",
    "s = raw_input()\n",
    "\n",
    "vowels = 'AEIOU'\n",
    "\n",
    "kevsc = 0\n",
    "stusc = 0\n",
    "for i in range(len(s)):\n",
    "    if s[i] in vowels:\n",
    "        kevsc += (len(s)-i)\n",
    "    else:\n",
    "        stusc += (len(s)-i)\n",
    "\n",
    "if kevsc > stusc:\n",
    "    print \"Kevin\", kevsc\n",
    "elif kevsc < stusc:\n",
    "    print \"Stuart\", stusc\n",
    "else:\n",
    "    print \"Draw\"\n"
   ]
  },
  {
   "cell_type": "code",
   "execution_count": 16,
   "metadata": {},
   "outputs": [
    {
     "name": "stdout",
     "output_type": "stream",
     "text": [
      "Please enter value of x,y,z,n \n",
      "2 2 2 2\n",
      "[[0, 0, 0], [0, 0, 1], [0, 1, 0], [0, 1, 2], [0, 2, 1], [0, 2, 2], [1, 0, 0], [1, 0, 2], [1, 1, 1], [1, 1, 2], [1, 2, 0], [1, 2, 1], [1, 2, 2], [2, 0, 1], [2, 0, 2], [2, 1, 0], [2, 1, 1], [2, 1, 2], [2, 2, 0], [2, 2, 1], [2, 2, 2]]\n"
     ]
    }
   ],
   "source": [
    "x,y,z,n=input(\"Please enter value of x,y,z,n \\n\").split()\n",
    "\n",
    "l1 = range(int(x)+1)\n",
    "l2 = range(int(y)+1)\n",
    "l3 = range(int(z)+1)\n",
    "\n",
    "set1=[[i,j,k] for i in l1 for j in l2 for k in l3 if (i+j+k != int(n))] \n",
    "\n",
    "#set2 = [itm if ((itm[0] + itm[1] + itm[2]) != n) for itm in set1 ]\n",
    "\n",
    "print (set1)\n",
    "\n",
    "#print (set2)\n"
   ]
  },
  {
   "cell_type": "code",
   "execution_count": 22,
   "metadata": {},
   "outputs": [
    {
     "name": "stdout",
     "output_type": "stream",
     "text": [
      "[1, 2, 3, 4, 5, 9, 25, 32]\n",
      "25\n"
     ]
    }
   ],
   "source": [
    "l1 = [25, 32, 1,2,3,5,9,4,5,9,3, 32, 9]\n",
    "\n",
    "set1=set(l1)\n",
    "\n",
    "l2=list(set1)\n",
    "\n",
    "l2.sort()\n",
    "\n",
    "print(l2)\n",
    "print (l2[-2])"
   ]
  },
  {
   "cell_type": "code",
   "execution_count": 18,
   "metadata": {},
   "outputs": [
    {
     "name": "stdout",
     "output_type": "stream",
     "text": [
      "Please enter num of students\n",
      "5\n",
      "[['Harry', 37.21], ['Barry', 37.21], ['Tina', 37.2], ['Akriti', 37.2], ['Harsh', 39.0]]\n",
      "[['Akriti', 37.2], ['Tina', 37.2], ['Barry', 37.21], ['Harry', 37.21], ['Harsh', 39.0]]\n",
      "[37.2, 37.2, 37.21, 37.21, 39.0]\n",
      "[37.21, 37.21, 39.0]\n",
      "37.21\n",
      "Barry\n",
      "Harry\n"
     ]
    }
   ],
   "source": [
    "n = int(input(\"Please enter num of students\\n\"))\n",
    "\n",
    "'''\n",
    "lst=[]\n",
    "for i in range(0, n): \n",
    "    ele = [input(\"Please enter name of student\"), float(input(\"Please enter marks of student\"))] \n",
    "    lst.append(ele) \n",
    "'''\n",
    "lst = [['Harry', 37.21], ['Barry', 37.21], ['Tina', 37.2], ['Akriti', 37.2], ['Harsh', 39.0]]\n",
    "print (lst)\n",
    "\n",
    "sort_lst=[]\n",
    "for i in range(n):\n",
    "    temp=[]\n",
    "    for j in range(n-1):\n",
    "        if (lst[j][1] > lst[j+1][1] or (lst[j][1] == lst[j+1][1] and lst[j][0] >= lst[j+1][0])):\n",
    "                temp=lst[j]\n",
    "                lst[j]=lst[j+1]\n",
    "                lst[j+1]=temp\n",
    "          \n",
    "print(lst)\n",
    "\n",
    "markset=[lst[i][1] for i in range(n)]\n",
    "markset.sort()\n",
    "\n",
    "print(markset)\n",
    "lowest=min(markset)\n",
    "\n",
    "markset1=[]\n",
    "for i in markset:\n",
    "    if (i!=lowest):\n",
    "        markset1.append(i) \n",
    "\n",
    "print(markset1)\n",
    "secondlowest=min(markset1)\n",
    "print(secondlowest)\n",
    "\n",
    "lowestnames=[item[0] for item in lst if item[1]==secondlowest]\n",
    "\n",
    "for i in lowestnames:\n",
    "    print (i)\n",
    "#secondlowest=[lst[i][0] if (lst[i][1] == markset[2]) for i in range(n)]\n",
    "\n",
    "#print(secondlowest)\n"
   ]
  },
  {
   "cell_type": "code",
   "execution_count": 43,
   "metadata": {},
   "outputs": [
    {
     "name": "stdout",
     "output_type": "stream",
     "text": [
      "\n",
      "*******\n",
      "**   **\n",
      "* * * *\n",
      "*  *  *\n",
      "* * * *\n",
      "**   **\n",
      "*******"
     ]
    }
   ],
   "source": [
    "'''\n",
    "*******\n",
    "**   **\n",
    "* * * *\n",
    "*  *  *\n",
    "* * * *\n",
    "**   **\n",
    "*******\n",
    "'''\n",
    "\n",
    "n=7\n",
    "\n",
    "def print_star(l):   \n",
    "    for i in l:\n",
    "        if i: \n",
    "            print (\"*\",end='')\n",
    "        else:\n",
    "            print (\" \",end='')\n",
    "\n",
    "lis1 = [1 for i in range(n)]\n",
    "lis0 = [1 if (i==0 or i==n-1) else 0 for i in range(n)]\n",
    "\n",
    "#print(lis1)\n",
    "#print(lis0)\n",
    "#print_star(lis0)\n",
    "\n",
    "\n",
    "mid=n//2\n",
    "for j in range(n):\n",
    "    print()\n",
    "    if (j==0 or j == n-1): \n",
    "        print_star(lis1)\n",
    "    else:\n",
    "        k=j\n",
    "        if (j >= mid): k = n-j-1\n",
    "        lis_temp=lis0.copy()\n",
    "        lis_temp[k]=lis_temp[-(k+1)]=1\n",
    "        print_star(lis_temp)\n",
    "    \n",
    "#print_star()\n"
   ]
  },
  {
   "cell_type": "code",
   "execution_count": 4,
   "metadata": {},
   "outputs": [
    {
     "name": "stdout",
     "output_type": "stream",
     "text": [
      "[10, 30, 25, 40, 25, 40, 29]\n",
      "[10, 30, 25, 25, 40, 29]\n",
      "40\n"
     ]
    }
   ],
   "source": [
    "l1=[10,30, 25, 40,25,40,29]\n",
    "\n",
    "print(l1)\n",
    "\n",
    "l2=l1.copy()\n",
    "\n",
    "l2.remove(max(l2))vslues\n",
    "\n",
    "print(l2)\n",
    "\n",
    "secondhighest=max(l2)\n",
    "\n",
    "print(secondhighest)"
   ]
  },
  {
   "cell_type": "code",
   "execution_count": null,
   "metadata": {},
   "outputs": [],
   "source": []
  },
  {
   "cell_type": "code",
   "execution_count": 19,
   "metadata": {},
   "outputs": [
    {
     "name": "stdout",
     "output_type": "stream",
     "text": [
      "[10, 10, 10, 10]\n"
     ]
    }
   ],
   "source": [
    "dict = {'a':10,'b':10,'c':10,'d':10}\n",
    "\n",
    "val_list=list(dict.values())\n",
    "\n",
    "k=val_list[0]\n",
    "\n",
    "res=all(x == k )"
   ]
  },
  {
   "cell_type": "code",
   "execution_count": 1,
   "metadata": {},
   "outputs": [
    {
     "name": "stdout",
     "output_type": "stream",
     "text": [
      "insert 0 5\n",
      "insert 1 10\n",
      "insert 0 6\n",
      "print\n",
      "[6, 5, 10]\n",
      "remove 6\n",
      "append 9\n",
      "append 1\n",
      "sort\n",
      "print\n",
      "[1, 5, 9, 10]\n",
      "pop\n",
      "reverse\n",
      "print\n",
      "[9, 5, 1]\n"
     ]
    }
   ],
   "source": [
    "'''\n",
    "12\n",
    "insert 0 5\n",
    "insert 1 10\n",
    "insert 0 6\n",
    "print\n",
    "remove 6\n",
    "append 9\n",
    "append 1\n",
    "sort\n",
    "print\n",
    "pop\n",
    "reverse\n",
    "print\n",
    "'''\n",
    "\n",
    "#def insert(i, n):\n",
    "    \n",
    "lst=[]\n",
    "N=12 \n",
    "i=0\n",
    "while i in range(N):\n",
    "    inp_vals=[]\n",
    "\n",
    "    inp_vals=input().split()\n",
    "    #print(len(inp_vals))\n",
    "\n",
    "    command=inp_vals[0]\n",
    "    \n",
    "    if len(inp_vals) >= 2:\n",
    "        idx=int(inp_vals[1])\n",
    "        \n",
    "    if len(inp_vals)==3:\n",
    "        val=int(inp_vals[2])\n",
    "    \n",
    "    #print (command)\n",
    "    #print (idx)\n",
    "    #print (val)\n",
    "    \n",
    "    if command=='insert':\n",
    "        lst.insert(idx,val)\n",
    "    elif command=='append':\n",
    "        lst.append(idx)\n",
    "    elif command=='remove':\n",
    "        lst.remove(idx)\n",
    "    elif command=='pop':\n",
    "        lst.pop(-1)\n",
    "    elif command=='reverse':\n",
    "        lst.reverse()\n",
    "    elif command=='sort':\n",
    "        lst.sort()\n",
    "    elif command=='print':\n",
    "        print (lst)\n",
    "    i+=1\n",
    "\n",
    "\n",
    "\n"
   ]
  },
  {
   "cell_type": "code",
   "execution_count": 2,
   "metadata": {},
   "outputs": [
    {
     "name": "stdout",
     "output_type": "stream",
     "text": [
      "3713081631934410656\n"
     ]
    }
   ],
   "source": [
    "t=(1,2)\n",
    "print(hash(t))"
   ]
  },
  {
   "cell_type": "code",
   "execution_count": 12,
   "metadata": {},
   "outputs": [
    {
     "name": "stdout",
     "output_type": "stream",
     "text": [
      "2\n",
      "1 2\n",
      "(1, 2)\n",
      "3713081631934410656\n"
     ]
    }
   ],
   "source": [
    "#N=input()\n",
    "\n",
    "n = int(input())\n",
    "integer_list = map(int, input().split())\n",
    "\n",
    "#print (integer_list)\n",
    "\n",
    "t=tuple(integer_list)\n",
    "#print (t)\n",
    "\n",
    "print(hash(t))"
   ]
  },
  {
   "cell_type": "code",
   "execution_count": null,
   "metadata": {},
   "outputs": [],
   "source": [
    "'''\n",
    "Incorrect Regex\n",
    "\n",
    "\n",
    "You are given a string .\n",
    "Your task is to find out whether  is a valid regex or not.\n",
    "\n",
    "Input Format\n",
    "\n",
    "The first line contains integer , the number of test cases.\n",
    "The next  lines contains the string .\n",
    "\n",
    "Constraints\n",
    "\n",
    "\n",
    "Output Format\n",
    "\n",
    "Print \"True\" or \"False\" for each test case without quotes.\n",
    "'''\n",
    "\n",
    "import re\n",
    "for i in range(int(input())):\n",
    "    try:\n",
    "        s = input()\n",
    "        re.compile(s)\n",
    "    except:\n",
    "        print(\"False\")\n",
    "        continue\n",
    "    print(\"True\")"
   ]
  },
  {
   "cell_type": "code",
   "execution_count": 1,
   "metadata": {},
   "outputs": [
    {
     "name": "stdout",
     "output_type": "stream",
     "text": [
      "HackerRank.com presents \"Pythonist 2\".\n",
      "['h', 'A', 'C', 'K', 'E', 'R', 'r', 'A', 'N', 'K', '.', 'C', 'O', 'M', ' ', 'P', 'R', 'E', 'S', 'E', 'N', 'T', 'S', ' ', '\"', 'p', 'Y', 'T', 'H', 'O', 'N', 'I', 'S', 'T', ' ', '2', '\"', '.']\n",
      "hACKERrANK.COM PRESENTS \"pYTHONIST 2\".\n",
      "hACKERrANK.COM PRESENTS \"pYTHONIST 2\".\n"
     ]
    }
   ],
   "source": [
    "def swap_case(s):\n",
    "    \n",
    "    lst=s\n",
    "    newlst=[]\n",
    "    \n",
    "    for i in lst:\n",
    "        if i.isupper(): \n",
    "            newlst.append(i.lower())\n",
    "        else:\n",
    "            newlst.append(i.upper())\n",
    "    s1 = ''.join(newlst)\n",
    "    #print (newlst)\n",
    "    #print(s1)\n",
    "    return s1\n",
    "\n",
    "if __name__ == '__main__':\n",
    "    s = input()\n",
    "    result = swap_case(s)\n",
    "    print(result)"
   ]
  },
  {
   "cell_type": "code",
   "execution_count": 6,
   "metadata": {},
   "outputs": [
    {
     "name": "stdout",
     "output_type": "stream",
     "text": [
      "ABCDCDC\n",
      "CDC\n",
      "ABC\n",
      "ABCDCDC\n",
      "BCD\n",
      "ABCDCDC\n",
      "CDC\n",
      "ABCDCDC\n",
      "DCD\n",
      "ABCDCDC\n",
      "CDC\n",
      "ABCDCDC\n",
      "2\n"
     ]
    }
   ],
   "source": [
    "def count_substring(string, sub_string):\n",
    "    \n",
    "    count=0\n",
    "    for i in range((len(string)-len(sub_string)+1)):\n",
    "        #print(str1[i:i+len(sub_string)])\n",
    "        if string[i:i+len(sub_string)]== sub_string: count+=1\n",
    "        #print(str1)\n",
    "        \n",
    "    return count\n",
    "\n",
    "if __name__ == '__main__':\n",
    "    string = input().strip()\n",
    "    sub_string = input().strip()\n",
    "    \n",
    "    count = count_substring(string, sub_string)\n",
    "    print(count)"
   ]
  },
  {
   "cell_type": "code",
   "execution_count": 21,
   "metadata": {},
   "outputs": [
    {
     "name": "stdout",
     "output_type": "stream",
     "text": [
      "True\n",
      "False\n",
      "True\n",
      "False\n",
      "False\n"
     ]
    }
   ],
   "source": [
    "s1=\"123\"\n",
    "\n",
    "'''\n",
    "In the first line, print True if  has any alphanumeric characters. Otherwise, print False.\n",
    "In the second line, print True if  has any alphabetical characters. Otherwise, print False.\n",
    "In the third line, print True if  has any digits. Otherwise, print False.\n",
    "In the fourth line, print True if  has any lowercase characters. Otherwise, print False.\n",
    "In the fifth line, print True if  has any uppercase characters. Otherwise, print False.\n",
    "'''\n",
    "\n",
    "stat1=stat2=stat3=stat4=stat5=False\n",
    "for i in range(len(s1)):\n",
    "    if (stat1==False):\n",
    "        if (s1[i].isalnum()): stat1=True\n",
    "    if (stat2==False):\n",
    "        if (s1[i].isalpha()): stat2=True\n",
    "    if (stat3==False):\n",
    "        if (s1[i].isdigit()): stat3=True\n",
    "    if (stat4==False):\n",
    "        if (s1[i].islower()): stat4=True\n",
    "    if (stat5==False):\n",
    "        if (s1[i].isupper()): stat5=True      \n",
    "                 \n",
    "print(stat1)\n",
    "print(stat2)\n",
    "print(stat3)\n",
    "print(stat4)\n",
    "print(stat5)\n"
   ]
  },
  {
   "cell_type": "code",
   "execution_count": 30,
   "metadata": {},
   "outputs": [
    {
     "name": "stdout",
     "output_type": "stream",
     "text": [
      "5\n",
      "    H    \n",
      "   HHH   \n",
      "  HHHHH  \n",
      " HHHHHHH \n",
      "HHHHHHHHH\n",
      "  HHHHH               HHHHH             \n",
      "  HHHHH               HHHHH             \n",
      "  HHHHH               HHHHH             \n",
      "  HHHHH               HHHHH             \n",
      "  HHHHH               HHHHH             \n",
      "  HHHHH               HHHHH             \n",
      "  HHHHHHHHHHHHHHHHHHHHHHHHH   \n",
      "  HHHHHHHHHHHHHHHHHHHHHHHHH   \n",
      "  HHHHHHHHHHHHHHHHHHHHHHHHH   \n",
      "  HHHHH               HHHHH             \n",
      "  HHHHH               HHHHH             \n",
      "  HHHHH               HHHHH             \n",
      "  HHHHH               HHHHH             \n",
      "  HHHHH               HHHHH             \n",
      "  HHHHH               HHHHH             \n",
      "                    HHHHHHHHH \n",
      "                     HHHHHHH  \n",
      "                      HHHHH   \n",
      "                       HHH    \n",
      "                        H     \n"
     ]
    }
   ],
   "source": [
    "thickness = int(input()) #This must be an odd number\n",
    "c = 'H'\n",
    "\n",
    "#Top Cone\n",
    "for i in range(thickness):\n",
    "    print((c*i).rjust(thickness-1)+c+(c*i).ljust(thickness-1))\n",
    "\n",
    "#Top Pillars\n",
    "for i in range(thickness+1):\n",
    "    print((c*thickness).center(thickness*2)+(c*thickness).center(thickness*6))\n",
    "\n",
    "#Middle Belt\n",
    "for i in range((thickness+1)//2):\n",
    "    print((c*thickness*5).center(thickness*6))    \n",
    "\n",
    "#Bottom Pillars\n",
    "for i in range(thickness+1):\n",
    "    print((c*thickness).center(thickness*2)+(c*thickness).center(thickness*6))    \n",
    "\n",
    "#Bottom Cone\n",
    "for i in range(thickness):\n",
    "    print(((c*(thickness-i-1)).rjust(thickness)+c+(c*(thickness-i-1)).ljust(thickness)).rjust(thickness*6))"
   ]
  },
  {
   "cell_type": "code",
   "execution_count": 31,
   "metadata": {},
   "outputs": [
    {
     "name": "stdout",
     "output_type": "stream",
     "text": [
      "['ABCD', 'EFGH', 'IJKL', 'IMNO', 'QRST', 'UVWX', 'YZ']\n"
     ]
    }
   ],
   "source": [
    "lst = ['ABCD','EFGH','IJKL','IMNO','QRST','UVWX','YZ']\n",
    "\n",
    "print (lst)"
   ]
  },
  {
   "cell_type": "code",
   "execution_count": 45,
   "metadata": {},
   "outputs": [
    {
     "name": "stdout",
     "output_type": "stream",
     "text": [
      "ABCD\n",
      "EFGH\n",
      "IJKL\n",
      "IMNO\n",
      "QRST\n",
      "UVWX\n",
      "YZ\n",
      "\n"
     ]
    }
   ],
   "source": [
    "string='ABCDEFGHIJKLIMNOQRSTUVWXYZ'\n",
    "max_width=4\n",
    "\n",
    "j=0\n",
    "result=''\n",
    "for i in range(len(string)//max_width + 1 ):\n",
    "    if (j+max_width <= len(string)): \n",
    "        k=j+max_width\n",
    "    else:\n",
    "        k=len(string)\n",
    "    substr=string[j:k]+\"\\n\"\n",
    "    result+=substr\n",
    "    j+=max_width\n",
    "\n",
    "\n",
    "print(result)"
   ]
  },
  {
   "cell_type": "code",
   "execution_count": 10,
   "metadata": {},
   "outputs": [
    {
     "name": "stdout",
     "output_type": "stream",
     "text": [
      "---------------.|.---------------\n",
      "------------.|..|..|.------------\n",
      "---------.|..|..|..|..|.---------\n",
      "------.|..|..|..|..|..|..|.------\n",
      "---.|..|..|..|..|..|..|..|..|.---\n",
      "-------------WELCOME-------------\n",
      "---.|..|..|..|..|..|..|..|..|.---\n",
      "------.|..|..|..|..|..|..|.------\n",
      "---------.|..|..|..|..|.---------\n",
      "------------.|..|..|.------------\n",
      "---------------.|.---------------\n"
     ]
    }
   ],
   "source": [
    "#N,M=input().split()\n",
    "\n",
    "str1 = \".|.\"\n",
    "\n",
    "\n",
    "'''\n",
    "i=5\n",
    "print ((str1*(i+1)).center(21,\"-\"))\n",
    "\n",
    "0*2 + 1 number of str\n",
    "print((c*thickness).center(thickness*2)+(c*thickness).center(thickness*6)) \n",
    "\n",
    "Size: 7 x 21 \n",
    "    ---------.|.---------\n",
    "    ------.|..|..|.------\n",
    "    ---.|..|..|..|..|.---\n",
    "    -------WELCOME-------\n",
    "    ---.|..|..|..|..|.---\n",
    "    ------.|..|..|.------\n",
    "    ---------.|.---------\n",
    "    \n",
    "'''\n",
    "N=11\n",
    "M=33\n",
    "\n",
    "for i in range(N):\n",
    "    if i < N//2:\n",
    "        print((str1*(i*2 + 1)).center(M,\"-\"))\n",
    "    if i == N//2:\n",
    "        print(('WELCOME').center(M,\"-\"))\n",
    "    if i > N//2:\n",
    "        print((str1*((N-i-1)*2 + 1)).center(M,\"-\"))"
   ]
  },
  {
   "cell_type": "code",
   "execution_count": 13,
   "metadata": {},
   "outputs": [
    {
     "name": "stdout",
     "output_type": "stream",
     "text": [
      "[17, '21', '11', '10001']\n"
     ]
    }
   ],
   "source": [
    "'''\n",
    "    1     1     1     1\n",
    "    2     2     2    10\n",
    "    3     3     3    11\n",
    "    4     4     4   100\n",
    "    5     5     5   101\n",
    "    6     6     6   110\n",
    "    7     7     7   111\n",
    "    8    10     8  1000\n",
    "    9    11     9  1001\n",
    "   10    12     A  1010\n",
    "   11    13     B  1011\n",
    "   12    14     C  1100\n",
    "   13    15     D  1101\n",
    "   14    16     E  1110\n",
    "   15    17     F  1111\n",
    "   16    20    10 10000\n",
    "   17    21    11 10001\n",
    "\n",
    "'''\n",
    "i=17\n",
    "\n",
    "num_list=[i, oct(i)[2:], hex(i)[2:], bin(i)[2:]]\n",
    "\n",
    "print(num_list)"
   ]
  },
  {
   "cell_type": "code",
   "execution_count": 1,
   "metadata": {},
   "outputs": [
    {
     "name": "stdout",
     "output_type": "stream",
     "text": [
      "23\n"
     ]
    }
   ],
   "source": [
    "print (len(\"   17    21    11 10001\"))"
   ]
  },
  {
   "cell_type": "code",
   "execution_count": 3,
   "metadata": {},
   "outputs": [
    {
     "name": "stdout",
     "output_type": "stream",
     "text": [
      "6\n"
     ]
    }
   ],
   "source": [
    "width = len(bin(17)[2:])+1\n",
    "print (width)"
   ]
  },
  {
   "cell_type": "code",
   "execution_count": 9,
   "metadata": {},
   "outputs": [
    {
     "name": "stdout",
     "output_type": "stream",
     "text": [
      "   17    21    11 10001\n"
     ]
    }
   ],
   "source": [
    "n=17\n",
    "width = len(bin(n)[2:])\n",
    "print (str(n).rjust(width), oct(n)[2:].rjust(width), hex(n)[2:].rjust(width), bin(n)[2:].rjust(width))"
   ]
  },
  {
   "cell_type": "code",
   "execution_count": 12,
   "metadata": {},
   "outputs": [
    {
     "name": "stdout",
     "output_type": "stream",
     "text": [
      "17\n",
      "    1     1     1     1\n",
      "    2     2     2    10\n",
      "    3     3     3    11\n",
      "    4     4     4   100\n",
      "    5     5     5   101\n",
      "    6     6     6   110\n",
      "    7     7     7   111\n",
      "    8    10     8  1000\n",
      "    9    11     9  1001\n",
      "   10    12     A  1010\n",
      "   11    13     B  1011\n",
      "   12    14     C  1100\n",
      "   13    15     D  1101\n",
      "   14    16     E  1110\n",
      "   15    17     F  1111\n",
      "   16    20    10 10000\n",
      "   17    21    11 10001\n"
     ]
    }
   ],
   "source": [
    "def print_formatted(number):\n",
    "    width = len(bin(number)[2:])\n",
    "    for n in range(1,number+1):\n",
    "        print (str(n).rjust(width), oct(n)[2:].rjust(width), (hex(n)[2:].upper()).rjust(width), bin(n)[2:].rjust(width))\n",
    "\n",
    "if __name__ == '__main__':\n",
    "    n = int(input())\n",
    "    print_formatted(n)"
   ]
  },
  {
   "cell_type": "code",
   "execution_count": 48,
   "metadata": {},
   "outputs": [
    {
     "name": "stdout",
     "output_type": "stream",
     "text": [
      "--------------------------------------------------z--------------------------------------------------\n",
      "------------------------------------------------z-y-z------------------------------------------------\n",
      "----------------------------------------------z-y-x-y-z----------------------------------------------\n",
      "--------------------------------------------z-y-x-w-x-y-z--------------------------------------------\n",
      "------------------------------------------z-y-x-w-v-w-x-y-z------------------------------------------\n",
      "----------------------------------------z-y-x-w-v-u-v-w-x-y-z----------------------------------------\n",
      "--------------------------------------z-y-x-w-v-u-t-u-v-w-x-y-z--------------------------------------\n",
      "------------------------------------z-y-x-w-v-u-t-s-t-u-v-w-x-y-z------------------------------------\n",
      "----------------------------------z-y-x-w-v-u-t-s-r-s-t-u-v-w-x-y-z----------------------------------\n",
      "--------------------------------z-y-x-w-v-u-t-s-r-q-r-s-t-u-v-w-x-y-z--------------------------------\n",
      "------------------------------z-y-x-w-v-u-t-s-r-q-p-q-r-s-t-u-v-w-x-y-z------------------------------\n",
      "----------------------------z-y-x-w-v-u-t-s-r-q-p-o-p-q-r-s-t-u-v-w-x-y-z----------------------------\n",
      "--------------------------z-y-x-w-v-u-t-s-r-q-p-o-n-o-p-q-r-s-t-u-v-w-x-y-z--------------------------\n",
      "------------------------z-y-x-w-v-u-t-s-r-q-p-o-n-m-n-o-p-q-r-s-t-u-v-w-x-y-z------------------------\n",
      "----------------------z-y-x-w-v-u-t-s-r-q-p-o-n-m-l-m-n-o-p-q-r-s-t-u-v-w-x-y-z----------------------\n",
      "--------------------z-y-x-w-v-u-t-s-r-q-p-o-n-m-l-k-l-m-n-o-p-q-r-s-t-u-v-w-x-y-z--------------------\n",
      "------------------z-y-x-w-v-u-t-s-r-q-p-o-n-m-l-k-j-k-l-m-n-o-p-q-r-s-t-u-v-w-x-y-z------------------\n",
      "----------------z-y-x-w-v-u-t-s-r-q-p-o-n-m-l-k-j-i-j-k-l-m-n-o-p-q-r-s-t-u-v-w-x-y-z----------------\n",
      "--------------z-y-x-w-v-u-t-s-r-q-p-o-n-m-l-k-j-i-h-i-j-k-l-m-n-o-p-q-r-s-t-u-v-w-x-y-z--------------\n",
      "------------z-y-x-w-v-u-t-s-r-q-p-o-n-m-l-k-j-i-h-g-h-i-j-k-l-m-n-o-p-q-r-s-t-u-v-w-x-y-z------------\n",
      "----------z-y-x-w-v-u-t-s-r-q-p-o-n-m-l-k-j-i-h-g-f-g-h-i-j-k-l-m-n-o-p-q-r-s-t-u-v-w-x-y-z----------\n",
      "--------z-y-x-w-v-u-t-s-r-q-p-o-n-m-l-k-j-i-h-g-f-e-f-g-h-i-j-k-l-m-n-o-p-q-r-s-t-u-v-w-x-y-z--------\n",
      "------z-y-x-w-v-u-t-s-r-q-p-o-n-m-l-k-j-i-h-g-f-e-d-e-f-g-h-i-j-k-l-m-n-o-p-q-r-s-t-u-v-w-x-y-z------\n",
      "----z-y-x-w-v-u-t-s-r-q-p-o-n-m-l-k-j-i-h-g-f-e-d-c-d-e-f-g-h-i-j-k-l-m-n-o-p-q-r-s-t-u-v-w-x-y-z----\n",
      "--z-y-x-w-v-u-t-s-r-q-p-o-n-m-l-k-j-i-h-g-f-e-d-c-b-c-d-e-f-g-h-i-j-k-l-m-n-o-p-q-r-s-t-u-v-w-x-y-z--\n",
      "z-y-x-w-v-u-t-s-r-q-p-o-n-m-l-k-j-i-h-g-f-e-d-c-b-a-b-c-d-e-f-g-h-i-j-k-l-m-n-o-p-q-r-s-t-u-v-w-x-y-z\n",
      "--z-y-x-w-v-u-t-s-r-q-p-o-n-m-l-k-j-i-h-g-f-e-d-c-b-c-d-e-f-g-h-i-j-k-l-m-n-o-p-q-r-s-t-u-v-w-x-y-z--\n",
      "----z-y-x-w-v-u-t-s-r-q-p-o-n-m-l-k-j-i-h-g-f-e-d-c-d-e-f-g-h-i-j-k-l-m-n-o-p-q-r-s-t-u-v-w-x-y-z----\n",
      "------z-y-x-w-v-u-t-s-r-q-p-o-n-m-l-k-j-i-h-g-f-e-d-e-f-g-h-i-j-k-l-m-n-o-p-q-r-s-t-u-v-w-x-y-z------\n",
      "--------z-y-x-w-v-u-t-s-r-q-p-o-n-m-l-k-j-i-h-g-f-e-f-g-h-i-j-k-l-m-n-o-p-q-r-s-t-u-v-w-x-y-z--------\n",
      "----------z-y-x-w-v-u-t-s-r-q-p-o-n-m-l-k-j-i-h-g-f-g-h-i-j-k-l-m-n-o-p-q-r-s-t-u-v-w-x-y-z----------\n",
      "------------z-y-x-w-v-u-t-s-r-q-p-o-n-m-l-k-j-i-h-g-h-i-j-k-l-m-n-o-p-q-r-s-t-u-v-w-x-y-z------------\n",
      "--------------z-y-x-w-v-u-t-s-r-q-p-o-n-m-l-k-j-i-h-i-j-k-l-m-n-o-p-q-r-s-t-u-v-w-x-y-z--------------\n",
      "----------------z-y-x-w-v-u-t-s-r-q-p-o-n-m-l-k-j-i-j-k-l-m-n-o-p-q-r-s-t-u-v-w-x-y-z----------------\n",
      "------------------z-y-x-w-v-u-t-s-r-q-p-o-n-m-l-k-j-k-l-m-n-o-p-q-r-s-t-u-v-w-x-y-z------------------\n",
      "--------------------z-y-x-w-v-u-t-s-r-q-p-o-n-m-l-k-l-m-n-o-p-q-r-s-t-u-v-w-x-y-z--------------------\n",
      "----------------------z-y-x-w-v-u-t-s-r-q-p-o-n-m-l-m-n-o-p-q-r-s-t-u-v-w-x-y-z----------------------\n",
      "------------------------z-y-x-w-v-u-t-s-r-q-p-o-n-m-n-o-p-q-r-s-t-u-v-w-x-y-z------------------------\n",
      "--------------------------z-y-x-w-v-u-t-s-r-q-p-o-n-o-p-q-r-s-t-u-v-w-x-y-z--------------------------\n",
      "----------------------------z-y-x-w-v-u-t-s-r-q-p-o-p-q-r-s-t-u-v-w-x-y-z----------------------------\n",
      "------------------------------z-y-x-w-v-u-t-s-r-q-p-q-r-s-t-u-v-w-x-y-z------------------------------\n",
      "--------------------------------z-y-x-w-v-u-t-s-r-q-r-s-t-u-v-w-x-y-z--------------------------------\n",
      "----------------------------------z-y-x-w-v-u-t-s-r-s-t-u-v-w-x-y-z----------------------------------\n",
      "------------------------------------z-y-x-w-v-u-t-s-t-u-v-w-x-y-z------------------------------------\n",
      "--------------------------------------z-y-x-w-v-u-t-u-v-w-x-y-z--------------------------------------\n",
      "----------------------------------------z-y-x-w-v-u-v-w-x-y-z----------------------------------------\n",
      "------------------------------------------z-y-x-w-v-w-x-y-z------------------------------------------\n",
      "--------------------------------------------z-y-x-w-x-y-z--------------------------------------------\n",
      "----------------------------------------------z-y-x-y-z----------------------------------------------\n",
      "------------------------------------------------z-y-z------------------------------------------------\n",
      "--------------------------------------------------z--------------------------------------------------\n"
     ]
    }
   ],
   "source": [
    "n = 26\n",
    "\n",
    "'''\n",
    "3 = c\n",
    "a-b-c-b-a\n",
    "\n",
    "97-98-99-98-97\n",
    "\n",
    "\n",
    "'''\n",
    "width=4*n - 3\n",
    "\n",
    "i=1\n",
    "joinc = \"-\"\n",
    "\n",
    "while i < 2*n:\n",
    "    j=0\n",
    "    strlist=[]\n",
    "    strlist1=[]\n",
    "    string=''\n",
    "#    print (i,n)\n",
    "    \n",
    "    if i <= n:\n",
    "        counter = i\n",
    "    else:\n",
    "        counter-=1\n",
    "    \n",
    "#    print(counter)\n",
    "    while j<counter:\n",
    "        strlist.append(chr(96+n-j))\n",
    "#        print(strlist)\n",
    "        j+=1\n",
    "    k=1\n",
    "    num=len(strlist)\n",
    "    strlist1=strlist.copy()\n",
    "    l=0\n",
    "    \n",
    "    while (k<num):\n",
    "        l=-1-k\n",
    "        strlist1.append(strlist[l])\n",
    "        k += 1\n",
    "        \n",
    "    string=joinc.join(strlist1) \n",
    "    print (string.center(width,\"-\"))\n",
    "#    print (i,n)\n",
    "    i+=1       \n",
    "    "
   ]
  },
  {
   "cell_type": "code",
   "execution_count": 4,
   "metadata": {},
   "outputs": [
    {
     "name": "stdout",
     "output_type": "stream",
     "text": [
      "BAANANA\n",
      "Kevin 15\n"
     ]
    }
   ],
   "source": [
    "#def wordlist():\n",
    "    \n",
    "\n",
    "str1 = input()\n",
    "\n",
    "vowels = ('A','E','I','O','U')\n",
    "\n",
    "'''\n",
    "stuart = []\n",
    "kevin = []\n",
    "\n",
    "\n",
    "for x in str1:\n",
    "    if x in vowels:\n",
    "        kevin.append(x)\n",
    "    else:\n",
    "        stuart.append(x)\n",
    "\n",
    "stuartletters=set(stuart)\n",
    "kevinletters=set(kevin)\n",
    "\n",
    "#print (stuart1)\n",
    "#print (kevin1)\n",
    "'''\n",
    "\n",
    "wordlen = len(str1)\n",
    "\n",
    "'''\n",
    "kevinwords = []\n",
    "stuartwords = []\n",
    "'''\n",
    "\n",
    "kevinwords = 0\n",
    "stuartwords = 0\n",
    "\n",
    "for i in range(wordlen):\n",
    "    if str1[i] in vowels:\n",
    "        kevinwords += (wordlen - i)\n",
    "    else:\n",
    "        stuartwords += (wordlen -i)\n",
    "'''\n",
    "    wordlist=[]\n",
    "    for j in range(i,wordlen+1):\n",
    "        wordlist.append(str1[i:j])\n",
    "        j +=1\n",
    "    \n",
    "    for w in wordlist:\n",
    "        if str1[i] in kevinletters:\n",
    "            kevinwords.append(w)\n",
    "        else:\n",
    "            stuartwords.append(w)\n",
    "'''\n",
    "i +=1\n",
    "\n",
    "'''\n",
    "kevinwords = [w for w in kevinwords if w != '']\n",
    "stuartwords = [w for w in stuartwords if w != '']\n",
    "\n",
    "print(kevinwords)\n",
    "print(stuartwords)\n",
    "\n",
    "if len(kevinwords) >  len(stuartwords):\n",
    "    print (\"Kevin\",len(kevinwords))\n",
    "elif len(kevinwords) <  len(stuartwords):\n",
    "    print (\"Stuart\",len(stuartwords))\n",
    "else:\n",
    "    print (\"Draw\")\n",
    "'''\n",
    "\n",
    "if kevinwords >  stuartwords:\n",
    "    print (\"Kevin\",kevinwords)\n",
    "elif kevinwords <  stuartwords:\n",
    "    print (\"Stuart\",stuartwords)\n",
    "else:\n",
    "    print (\"Draw\")"
   ]
  },
  {
   "cell_type": "code",
   "execution_count": 6,
   "metadata": {},
   "outputs": [
    {
     "name": "stdout",
     "output_type": "stream",
     "text": [
      "UWFDSVEPZHBAQTXGRMNCYLJIKO\n",
      "LROTJNQKHAEIUGZDWSBXCVMYPF\n",
      "PLAUVDWFYKHRNJOMEXIZQSGCBT\n"
     ]
    }
   ],
   "source": [
    "#s='AABCAAADA'\n",
    "s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n",
    "k=3333\n",
    "\n",
    "#s='AABCAAADAABADABCDBADABBDAAADDABCCDDDCCBBBCBACCCDDDDAAA'\n",
    "#k=3\n",
    "      \n",
    "f=int(len(s)/k)\n",
    "\n",
    "for n in range(f):\n",
    "    s1=s[(k*n):(k*(n+1))]\n",
    "    s11=s1[::-1]\n",
    "    s2=''\n",
    "    for i in range(k):\n",
    "        if s11[i] not in s11[i+1:]:\n",
    "            s2 += s11[i]\n",
    "        i += 1\n",
    "    print (s2[::-1])\n",
    "    n +=1\n",
    "  \n",
    "        "
   ]
  },
  {
   "cell_type": "code",
   "execution_count": 29,
   "metadata": {},
   "outputs": [
    {
     "name": "stdout",
     "output_type": "stream",
     "text": [
      "Enter number of shoes in shop10\n",
      "Enter list of shoes sizes present\n",
      "2 3 4 5 6 8 7 6 5 18\n",
      "Enter number of customers6\n",
      "Enter customer requirements\n",
      "6 55\n",
      "6 45\n",
      "6 55\n",
      "4 40\n",
      "18 60\n",
      "10 50\n",
      "Total Sales = 200\n",
      "Shoe size 10 not present\n"
     ]
    }
   ],
   "source": [
    "'''\n",
    ">>> from collections import Counter\n",
    ">>> \n",
    ">>> myList = [1,1,2,3,4,5,3,2,3,4,2,1,2,3]\n",
    ">>> print Counter(myList)\n",
    "Counter({2: 4, 3: 4, 1: 3, 4: 2, 5: 1})\n",
    ">>>\n",
    ">>> print Counter(myList).items()\n",
    "[(1, 3), (2, 4), (3, 4), (4, 2), (5, 1)]\n",
    ">>> \n",
    ">>> print Counter(myList).keys()\n",
    "[1, 2, 3, 4, 5]\n",
    ">>> \n",
    ">>> print Counter(myList).values()\n",
    "[3, 4, 4, 2, 1]\n",
    "------------------\n",
    "Input\n",
    "10\n",
    "2 3 4 5 6 8 7 6 5 18\n",
    "6\n",
    "6 55\n",
    "6 45\n",
    "6 55\n",
    "4 40\n",
    "18 60\n",
    "10 50\n",
    "'''\n",
    "from collections import Counter\n",
    "\n",
    "numshoes=int(input('Enter number of shoes in shop'))\n",
    "\n",
    "print ('Enter list of shoes sizes present')\n",
    "shoeliststr=input()\n",
    "shoelist = [i for i in shoeliststr.split(\" \")]\n",
    "shoelist_dict = Counter(shoelist)\n",
    "#print (shoelist_dict)\n",
    "\n",
    "cust = int(input('Enter number of customers'))\n",
    "sale=0\n",
    "\n",
    "print(\"Enter customer requirements\")\n",
    "\n",
    "n=1\n",
    "while n <= cust:\n",
    "    dtls=input()\n",
    "    dtls_list=[i for i in dtls.split(\" \")]\n",
    "    if dtls_list[0] in shoelist_dict:\n",
    "        items = shoelist_dict.get(dtls_list[0])\n",
    "        if items > 0:\n",
    "            sale+=int(dtls_list[1])\n",
    "            shoelist_dict[dtls_list[0]] -= 1\n",
    "    n+=1\n",
    "\n",
    "#print (\"Total Sales =\",sale)\n",
    "\n",
    "print(sale)\n",
    "\n",
    "#size='10'\n",
    "\n",
    "#if Counter(shoelist).get(size):\n",
    "if size in shoelist_dict:\n",
    "    print (\"Number of shoes of size 6 available is\", Counter(shoelist).get(size))\n",
    "else:\n",
    "    print (\"Shoe size\",size,\"not present\")\n",
    "    \n"
   ]
  },
  {
   "cell_type": "code",
   "execution_count": 11,
   "metadata": {},
   "outputs": [
    {
     "name": "stdout",
     "output_type": "stream",
     "text": [
      "1 2\n",
      "3 4\n",
      "(1, 3) (1, 4) (2, 3) (2, 4) "
     ]
    }
   ],
   "source": [
    "'''\n",
    ">>> from itertools import product\n",
    ">>>\n",
    ">>> print list(product([1,2,3],repeat = 2))\n",
    "[(1, 1), (1, 2), (1, 3), (2, 1), (2, 2), (2, 3), (3, 1), (3, 2), (3, 3)]\n",
    ">>>\n",
    ">>> print list(product([1,2,3],[3,4]))\n",
    "[(1, 3), (1, 4), (2, 3), (2, 4), (3, 3), (3, 4)]\n",
    ">>>\n",
    ">>> A = [[1,2,3],[3,4,5]]\n",
    ">>> print list(product(*A))\n",
    "[(1, 3), (1, 4), (1, 5), (2, 3), (2, 4), (2, 5), (3, 3), (3, 4), (3, 5)]\n",
    ">>>\n",
    ">>> B = [[1,2,3],[3,4,5],[7,8]]\n",
    ">>> print list(product(*B))\n",
    "[(1, 3, 7), (1, 3, 8), (1, 4, 7), (1, 4, 8), (1, 5, 7), (1, 5, 8), (2, 3, 7), (2, 3, 8), (2, 4, 7), (2, 4, 8), (2, 5, 7), (2, 5, 8), (3, 3, 7), (3, 3, 8), (3, 4, 7), (3, 4, 8), (3, 5, 7), (3, 5, 8)]\n",
    "'''\n",
    "\n",
    "from itertools import product\n",
    "\n",
    "A=input().split(\" \")\n",
    "\n",
    "Alist = [int(i) for i in A]\n",
    "\n",
    "B=input().split(\" \")\n",
    "Blist = [int(i) for i in B]\n",
    "\n",
    "AXB = list(product(Alist,Blist))\n",
    "           \n",
    "for i in AXB:\n",
    "    print (i, end=' ')"
   ]
  },
  {
   "cell_type": "code",
   "execution_count": 16,
   "metadata": {},
   "outputs": [
    {
     "name": "stdout",
     "output_type": "stream",
     "text": [
      "HACK 2\n",
      "['AC', 'AH', 'AK', 'CA', 'CH', 'CK', 'HA', 'HC', 'HK', 'KA', 'KC', 'KH']\n",
      "AC\n",
      "AH\n",
      "AK\n",
      "CA\n",
      "CH\n",
      "CK\n",
      "HA\n",
      "HC\n",
      "HK\n",
      "KA\n",
      "KC\n",
      "KH\n"
     ]
    }
   ],
   "source": [
    "'''\n",
    ">>> from itertools import permutations\n",
    ">>> print permutations(['1','2','3'])\n",
    "<itertools.permutations object at 0x02A45210>\n",
    ">>> \n",
    ">>> print list(permutations(['1','2','3']))\n",
    "[('1', '2', '3'), ('1', '3', '2'), ('2', '1', '3'), ('2', '3', '1'), ('3', '1', '2'), ('3', '2', '1')]\n",
    ">>> \n",
    ">>> print list(permutations(['1','2','3'],2))\n",
    "[('1', '2'), ('1', '3'), ('2', '1'), ('2', '3'), ('3', '1'), ('3', '2')]\n",
    ">>>\n",
    ">>> print list(permutations('abc',3))\n",
    "[('a', 'b', 'c'), ('a', 'c', 'b'), ('b', 'a', 'c'), ('b', 'c', 'a'), ('c', 'a', 'b'), ('c', 'b', 'a')]\n",
    "'''\n",
    "\n",
    "from itertools import permutations\n",
    "\n",
    "inp = input().split(\" \")\n",
    "\n",
    "perm = list(permutations(inp[0],int(inp[1])))\n",
    "\n",
    "permlist=[''.join(x) for x in perm]\n",
    "permlist.sort()\n",
    "\n",
    "#print (permlist)\n",
    "\n",
    "for x in permlist:\n",
    "    print (x)\n"
   ]
  },
  {
   "cell_type": "code",
   "execution_count": 30,
   "metadata": {},
   "outputs": [
    {
     "name": "stdout",
     "output_type": "stream",
     "text": [
      "HACK 2\n",
      "[('A',), ('C',), ('H',), ('K',), ('A', 'C'), ('A', 'H'), ('A', 'K'), ('C', 'H'), ('C', 'K'), ('H', 'K')]\n",
      "A\n",
      "C\n",
      "H\n",
      "K\n",
      "AC\n",
      "AH\n",
      "AK\n",
      "CH\n",
      "CK\n",
      "HK\n"
     ]
    }
   ],
   "source": [
    "'''\n",
    ">>> from itertools import combinations\n",
    ">>> \n",
    ">>> print list(combinations('12345',2))\n",
    "[('1', '2'), ('1', '3'), ('1', '4'), ('1', '5'), ('2', '3'), ('2', '4'), ('2', '5'), ('3', '4'), ('3', '5'), ('4', '5')]\n",
    ">>> \n",
    ">>> A = [1,1,3,3,3]\n",
    ">>> print list(combinations(A,4))\n",
    "[(1, 1, 3, 3), (1, 1, 3, 3), (1, 1, 3, 3), (1, 3, 3, 3), (1, 3, 3, 3)]\n",
    "'''\n",
    "from itertools import combinations\n",
    "\n",
    "inp = input().split(\" \")\n",
    "\n",
    "str1 = ''.join(sorted(inp[0]))\n",
    "\n",
    "comb = []\n",
    "i=0\n",
    "while i < int(inp[1]):\n",
    "    comb1 = list(combinations(str1,i+1))\n",
    "    for j in comb1 : comb.append(j)\n",
    "    i+=1\n",
    "\n",
    "#print (comb)\n",
    "\n",
    "for x in comb:\n",
    "    print (''.join(x))\n"
   ]
  },
  {
   "cell_type": "code",
   "execution_count": 29,
   "metadata": {},
   "outputs": [
    {
     "name": "stdout",
     "output_type": "stream",
     "text": [
      "1\n",
      "('A',)\n"
     ]
    }
   ],
   "source": [
    "t=('A',)\n",
    "\n",
    "print(len(t))\n",
    "print(t)"
   ]
  },
  {
   "cell_type": "code",
   "execution_count": 32,
   "metadata": {},
   "outputs": [
    {
     "name": "stdout",
     "output_type": "stream",
     "text": [
      "Row Inserted\n"
     ]
    }
   ],
   "source": [
    "#C:\\Users\\Satish\\Documents\\Python Scripts\\Akademize Certificates\n",
    "import os\n",
    "import pandas as pd\n",
    "from datetime import datetime\n",
    "\n",
    "def insert_row(data):\n",
    "    new_row=pd.DataFrame({'Certnum':['C7'],\n",
    "                   'Student': ['S7'],\n",
    "                         'Course':['C7'],\n",
    "                         'Completion Date':[datetime.strptime('01/01/2021', '%d/%m/%Y')]})\n",
    "    writer = pd.ExcelWriter(f'{certdir}\\\\students.xlsx', engine='openpyxl')\n",
    "    \n",
    "    data=data.append(new_row,ignore_index=True)\n",
    "    data.to_excel(writer,index=False,header=True)\n",
    "    writer.close()\n",
    "\n",
    "if 'CERTDIR' not in os.environ:\n",
    "    os.environ['CERTDIR'] = \"C:\\\\Users\\\\Satish\\\\Documents\\\\Python Scripts\\\\Akademize Certificates\"\n",
    "\n",
    "certdir=os.environ['CERTDIR']\n",
    "\n",
    "data = pd.read_excel(fr'{certdir}\\\\students.xlsx', engine='openpyxl')\n",
    "\n",
    "\n",
    "if 'C7' in list(data.Certnum):\n",
    "    print('Found C')\n",
    "else:\n",
    "    insert_row(data)\n",
    "    print('Row Inserted')"
   ]
  },
  {
   "cell_type": "code",
   "execution_count": 9,
   "metadata": {},
   "outputs": [
    {
     "name": "stdout",
     "output_type": "stream",
     "text": [
      "Collecting xlrd\n",
      "  Downloading xlrd-2.0.1-py2.py3-none-any.whl (96 kB)\n",
      "Installing collected packages: xlrd\n",
      "Successfully installed xlrd-2.0.1\n"
     ]
    }
   ],
   "source": [
    "!pip install xlrd"
   ]
  },
  {
   "cell_type": "code",
   "execution_count": 16,
   "metadata": {},
   "outputs": [
    {
     "name": "stdout",
     "output_type": "stream",
     "text": [
      "Collecting openpyxl\n",
      "  Downloading openpyxl-3.0.5-py2.py3-none-any.whl (242 kB)\n",
      "Collecting et-xmlfile\n",
      "  Downloading et_xmlfile-1.0.1.tar.gz (8.4 kB)\n",
      "Collecting jdcal\n",
      "  Downloading jdcal-1.4.1-py2.py3-none-any.whl (9.5 kB)\n",
      "Building wheels for collected packages: et-xmlfile\n",
      "  Building wheel for et-xmlfile (setup.py): started\n",
      "  Building wheel for et-xmlfile (setup.py): finished with status 'done'\n",
      "  Created wheel for et-xmlfile: filename=et_xmlfile-1.0.1-py3-none-any.whl size=8913 sha256=ea5ab230f50cebd53520cc933ca21681acf7f618abbd05c2ad7eea80b94417ca\n",
      "  Stored in directory: c:\\users\\satish\\appdata\\local\\pip\\cache\\wheels\\e2\\bd\\55\\048b4fd505716c4c298f42ee02dffd9496bb6d212b266c7f31\n",
      "Successfully built et-xmlfile\n",
      "Installing collected packages: jdcal, et-xmlfile, openpyxl\n",
      "Successfully installed et-xmlfile-1.0.1 jdcal-1.4.1 openpyxl-3.0.5\n"
     ]
    }
   ],
   "source": [
    "!pip install openpyxl"
   ]
  },
  {
   "cell_type": "code",
   "execution_count": 24,
   "metadata": {},
   "outputs": [
    {
     "name": "stdout",
     "output_type": "stream",
     "text": [
      "Collecting xlsxwriter\n",
      "  Downloading XlsxWriter-1.3.7-py2.py3-none-any.whl (144 kB)\n",
      "Installing collected packages: xlsxwriter\n",
      "Successfully installed xlsxwriter-1.3.7\n"
     ]
    }
   ],
   "source": [
    "!pip install xlsxwriter"
   ]
  },
  {
   "cell_type": "code",
   "execution_count": 4,
   "metadata": {},
   "outputs": [
    {
     "name": "stdout",
     "output_type": "stream",
     "text": [
      "           Student                       Course CompletionDate Code Certnum\n",
      "2   Prerana Murthy       Introduction to Python     2021-01-01  INP        \n",
      "3   Prerana Murthy      Python for Data Science     2021-01-01  PDS        \n",
      "4    Satish Murthy      Python for Data Science     2020-12-15  PDS        \n",
      "5          Sushila    Machine Learning In-Depth     2020-12-15  AML        \n",
      "6           Pranav                Deep Learning     2020-11-25  DPL        \n",
      "7             Jack  Natural Language Processing     2020-11-25  NLP        \n",
      "8             Jill    Machine Learning In-Depth     2021-01-05  AML        \n",
      "9             Hill                Deep Learning     2021-01-05  DPL        \n",
      "10             Big        Software Fundamentals     2020-10-12  SWF        \n",
      "11          GABBAR  Natural Language Processing     2020-10-12  NLP        \n",
      "      Certnum         Student                       Course CompletionDate\n",
      "1   INP100101  Prerana Murthy       Introduction to Python     2021-01-01\n",
      "2   PDS819928  Prerana Murthy      Python for Data Science     2021-01-01\n",
      "3   PDS539054   Satish Murthy      Python for Data Science     2020-12-15\n",
      "4   AML217556         Sushila    Machine Learning In-Depth     2020-12-15\n",
      "5   DPL893669          Pranav                Deep Learning     2020-11-25\n",
      "6   NLP527982            Jack  Natural Language Processing     2020-11-25\n",
      "7   AML966006            Jill    Machine Learning In-Depth     2021-01-05\n",
      "8   DPL298518            Hill                Deep Learning     2021-01-05\n",
      "9   SWF279902             Big        Software Fundamentals     2020-10-12\n",
      "10  NLP616667          GABBAR  Natural Language Processing     2020-10-12\n",
      "Completed\n"
     ]
    },
    {
     "name": "stderr",
     "output_type": "stream",
     "text": [
      "C:\\Users\\Satish\\Anaconda3\\lib\\site-packages\\ipykernel_launcher.py:59: SettingWithCopyWarning: \n",
      "A value is trying to be set on a copy of a slice from a DataFrame\n",
      "\n",
      "See the caveats in the documentation: https://pandas.pydata.org/pandas-docs/stable/user_guide/indexing.html#returning-a-view-versus-a-copy\n"
     ]
    }
   ],
   "source": [
    "import os\n",
    "import random\n",
    "import pandas as pd\n",
    "from datetime import datetime\n",
    "from openpyxl import load_workbook, workbook\n",
    "from openpyxl.utils.dataframe import dataframe_to_rows\n",
    "\n",
    "def gen_certno(code1):\n",
    "    return code1+str(random.randint(100000, 999999))\n",
    "\n",
    "def check_dup(certno1,certlist1,code1):\n",
    "    if certno1 in certlist1:\n",
    "        certnonew = gen_certno(code1)\n",
    "        check_dup(certnonew, certlist1, code1)\n",
    "    else:\n",
    "        return True\n",
    "\n",
    "os.environ['CERTDIR'] = \"C:\\\\Users\\\\Satish\\\\Documents\\\\Python Scripts\\\\Akademize Certificates\"\n",
    "certdir=os.environ['CERTDIR']\n",
    "\n",
    "studentfile=fr'{certdir}\\\\student_new.xlsx'\n",
    "certfile = fr'{certdir}\\\\student_master.xlsx'\n",
    "\n",
    "masterdata = pd.read_excel(certfile, engine='openpyxl')\n",
    "certlist = list(masterdata.Certnum)\n",
    "nrows=len(masterdata)\n",
    "\n",
    "# Read the student_new.xlsx - Course Master to get the list of valid courses\n",
    "coursedata = pd.read_excel(studentfile, sheet_name = 'Course Master', engine='openpyxl')\n",
    "\n",
    "# Process new students\n",
    "newstudents = pd.read_excel(studentfile, sheet_name = 'Student', engine='openpyxl')\n",
    "\n",
    "students_empty=newstudents[0:0] #create empty dataframe.\n",
    "masterdata=masterdata[0:0] #Empty masterdata df and get it ready for adding new rows\n",
    "\n",
    "#mapping course name and code\n",
    "newstudents['Code']=newstudents['Course'].map(coursedata.set_index('Course')['Code'])\n",
    "\n",
    "#subset rows which are bad - Code is NULL (NaN)\n",
    "Badrecords = newstudents[newstudents['Code'].isnull()]\n",
    "    \n",
    "# To drop rows where code is NULL (NaN)\n",
    "newstudents = newstudents.dropna(subset=['Code'])\n",
    "\n",
    "#Add new empty column Certnum to newstudents\n",
    "newstudents[\"Certnum\"] = \"\"\n",
    "\n",
    "#print(newstudents)\n",
    "\n",
    "newrows=0\n",
    "\n",
    "for idx in newstudents.index:\n",
    "    certno=gen_certno(newstudents['Code'][idx])\n",
    "    if check_dup(certno,certlist,newstudents['Code'][idx]):\n",
    "        newstudents['Certnum'][idx] = certno\n",
    "    sname = newstudents['Student'][idx]\n",
    "    cname = newstudents['Course'][idx]\n",
    "    cdate = newstudents['CompletionDate'][idx]\n",
    "    masterdata.loc[newrows+1]=[certno, sname, cname, cdate ]\n",
    "    newrows+=1\n",
    "    \n",
    "#print (masterdata)\n",
    "#============================\n",
    "\n",
    "writer = pd.ExcelWriter(studentfile, engine = 'openpyxl')\n",
    "\n",
    "#Adding new sheet\n",
    "students_empty.to_excel(writer, sheet_name='Student', index=False, header=True)\n",
    "coursedata.to_excel(writer, sheet_name='Course Master', index=False, header=True)\n",
    "newstudents.to_excel(writer, sheet_name='Students New', index=False, header=True)\n",
    "Badrecords.to_excel(writer, sheet_name='Bad Records', index=False, header=True)\n",
    "writer.save()\n",
    "writer.close()\n",
    "\n",
    "#===============\n",
    "# Writing CERTFILE data.\n",
    "\n",
    "book = load_workbook(certfile)\n",
    "sheet = book.active\n",
    "\n",
    "for row in dataframe_to_rows(masterdata, index=False, header=False):\n",
    "    sheet.append(row)\n",
    "\n",
    "book.save(certfile)\n",
    "book.close\n",
    "\n",
    "print('Completed')"
   ]
  },
  {
   "cell_type": "code",
   "execution_count": 14,
   "metadata": {},
   "outputs": [],
   "source": [
    "from os import environ\n",
    "import pandas as pd\n",
    "from openpyxl import load_workbook, workbook\n",
    "import openpyxl\n",
    "from openpyxl.worksheet.datavalidation import DataValidation\n",
    "\n",
    "environ['CERTDIR'] = \"C:\\\\Users\\\\Satish\\\\Documents\\\\Python Scripts\\\\Akademize Certificates\"\n",
    "certdir=environ['CERTDIR']\n",
    "\n",
    "studenttest=fr'{certdir}\\\\student_test.xlsx'\n",
    "studenttemplate = fr'{certdir}\\\\student_template.xlsx'\n",
    "\n",
    "coursedata = pd.read_excel(studenttemplate, sheet_name = 'Course Master', engine='openpyxl')\n",
    "courselist = list(coursedata.Course)\n",
    "############################\n",
    "wb = openpyxl.load_workbook(studenttest)\n",
    "ws = wb.active\n",
    "#sheet.title = 'Student'\n",
    "\n",
    "dv = DataValidation(type=\"list\", formula1=\"'Course1, course2, course3'\", allow_blank=False, showDropDown = True)\n",
    "ws.add_data_validation(dv)\n",
    "dv.add('B1:B1048576')\n",
    "\n",
    "wb.save(studenttest)\n",
    "\n",
    "#wb = openpyxl.load_workbook(studenttemplate)\n",
    "#wb.save(studenttest)"
   ]
  },
  {
   "cell_type": "code",
   "execution_count": null,
   "metadata": {},
   "outputs": [],
   "source": []
  }
 ],
 "metadata": {
  "kernelspec": {
   "display_name": "Python 3",
   "language": "python",
   "name": "python3"
  },
  "language_info": {
   "codemirror_mode": {
    "name": "ipython",
    "version": 3
   },
   "file_extension": ".py",
   "mimetype": "text/x-python",
   "name": "python",
   "nbconvert_exporter": "python",
   "pygments_lexer": "ipython3",
   "version": "3.7.3"
  }
 },
 "nbformat": 4,
 "nbformat_minor": 2
}
