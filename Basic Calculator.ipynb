{
 "cells": [
  {
   "cell_type": "code",
   "execution_count": null,
   "metadata": {
    "scrolled": false
   },
   "outputs": [
    {
     "name": "stdout",
     "output_type": "stream",
     "text": [
      "Select operation.\n",
      "1.Add\n",
      "2.Subtract\n",
      "3.Multiply\n",
      "4.Divide\n"
     ]
    }
   ],
   "source": [
    "\n",
    "def add(x, y):\n",
    "   return x + y\n",
    "def subtract(x, y):\n",
    "   return x - y\n",
    "def multiply(x, y):\n",
    "   return x * y\n",
    "def divide(x, y):\n",
    "   return x / y\n",
    "\n",
    "repeat = 1\n",
    "\n",
    "while repeat:\n",
    "    print(\"Select operation.\")\n",
    "    print(\"1.Add\")\n",
    "    print(\"2.Subtract\")\n",
    "    print(\"3.Multiply\")\n",
    "    print(\"4.Divide\")\n",
    "\n",
    "    choice = input(\"Enter choice(1/2/3/4): \")\n",
    "\n",
    "    if choice == '1' or choice =='2' or choice =='3' or choice== '4':\n",
    "        num1 = float(input(\"Enter first number: \"))\n",
    "        num2 = float(input(\"Enter second number: \"))\n",
    "\n",
    "        if choice == '1':\n",
    "           print(num1,\"+\",num2,\"=\", add(num1,num2))\n",
    "\n",
    "        elif choice == '2':\n",
    "           print(num1,\"-\",num2,\"=\", subtract(num1,num2))\n",
    "\n",
    "        elif choice == '3':\n",
    "           print(num1,\"*\",num2,\"=\", multiply(num1,num2))\n",
    "\n",
    "        elif choice == '4':\n",
    "           print(num1,\"/\",num2,\"=\", divide(num1,num2))\n",
    "    else:\n",
    "        print(\"invalid input\")        \n",
    "    \n",
    "    cont= input(\"Do you want to continue - y/n:\")\n",
    "    \n",
    "    if not(cont[0].upper() == \"Y\"):\n",
    "        repeat = 0\n",
    "        print (\"Thanks for using the calculator.\")\n",
    "        "
   ]
  },
  {
   "cell_type": "code",
   "execution_count": null,
   "metadata": {},
   "outputs": [],
   "source": [
    "a=input(\"enter a num\")\n",
    "b=input(\"enter a num\")\n",
    "c=a+b\n",
    "print (\"c=\",c)\n"
   ]
  }
 ],
 "metadata": {
  "kernelspec": {
   "display_name": "Python 3",
   "language": "python",
   "name": "python3"
  },
  "language_info": {
   "codemirror_mode": {
    "name": "ipython",
    "version": 3
   },
   "file_extension": ".py",
   "mimetype": "text/x-python",
   "name": "python",
   "nbconvert_exporter": "python",
   "pygments_lexer": "ipython3",
   "version": "3.7.3"
  }
 },
 "nbformat": 4,
 "nbformat_minor": 2
}
